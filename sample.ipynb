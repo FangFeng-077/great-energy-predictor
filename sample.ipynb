{
 "cells": [
  {
   "cell_type": "code",
   "execution_count": 5,
   "metadata": {},
   "outputs": [],
   "source": [
    "import os\n",
    "os.environ['THEANO_FLAGS']='device=cpu'\n",
    "import pymc3 as pm\n",
    "import numpy as np\n",
    "import matplotlib.pyplot as plt\n",
    "%matplotlib inline"
   ]
  },
  {
   "cell_type": "markdown",
   "metadata": {},
   "source": [
    "# Producing a simulated dataset"
   ]
  },
  {
   "cell_type": "markdown",
   "metadata": {},
   "source": [
    "### Define number of sites, observations and covariates"
   ]
  },
  {
   "cell_type": "code",
   "execution_count": 6,
   "metadata": {},
   "outputs": [],
   "source": [
    "n_locations = 20\n",
    "n_timesteps = 100\n",
    "p_static    = 3\n",
    "p_dynamic   = 4\n",
    "error_sd    = 1.5\n",
    "error_corr  = 0.3"
   ]
  },
  {
   "cell_type": "markdown",
   "metadata": {},
   "source": [
    "### Randomly sampled simulated covariates and coefficients"
   ]
  },
  {
   "cell_type": "code",
   "execution_count": 7,
   "metadata": {},
   "outputs": [],
   "source": [
    "covariates_static  = np.random.randn(n_locations,p_static)\n",
    "covariates_dynamic = np.random.randn(n_locations,n_timesteps,p_dynamic)\n",
    "\n",
    "coef_static  = np.random.randn(p_static)\n",
    "coef_dynamic = np.random.randn(p_dynamic)\n",
    "\n",
    "intercept = np.random.randn()"
   ]
  },
  {
   "cell_type": "code",
   "execution_count": 8,
   "metadata": {},
   "outputs": [
    {
     "name": "stdout",
     "output_type": "stream",
     "text": [
      "True static coefficients: [-0.92242287 -0.20313041  1.68823963]\n",
      "True dynamic coefficients: [-0.76727723  0.5583038   0.18566579 -0.92350548]\n",
      "True intercept: -0.49319634764495524\n"
     ]
    }
   ],
   "source": [
    "print('True static coefficients:',coef_static)\n",
    "print('True dynamic coefficients:',coef_dynamic)\n",
    "print('True intercept:',intercept)"
   ]
  },
  {
   "cell_type": "markdown",
   "metadata": {},
   "source": [
    "### Create AR(1) error process"
   ]
  },
  {
   "cell_type": "code",
   "execution_count": 9,
   "metadata": {},
   "outputs": [],
   "source": [
    "error_jumps = np.random.randn(n_locations,n_timesteps)\n",
    "\n",
    "x = np.zeros([n_locations,n_timesteps])\n",
    "for i in range(1,n_timesteps):\n",
    "    errors[:,i] = errors[:,i-1]*error_corr + error_jumps[:,i]"
   ]
  },
  {
   "cell_type": "markdown",
   "metadata": {},
   "source": [
    "### Combine error with predictors and coefficients"
   ]
  },
  {
   "cell_type": "code",
   "execution_count": 10,
   "metadata": {},
   "outputs": [
    {
     "name": "stdout",
     "output_type": "stream",
     "text": [
      "(20, 100)\n"
     ]
    }
   ],
   "source": [
    "mu       = covariates_static.dot(coef_static)[:,np.newaxis] + covariates_dynamic.dot(coef_dynamic) + intercept\n",
    "response = mu + errors\n",
    "print(response.shape)"
   ]
  },
  {
   "cell_type": "code",
   "execution_count": 13,
   "metadata": {},
   "outputs": [
    {
     "name": "stdout",
     "output_type": "stream",
     "text": [
      "(20, 100)\n"
     ]
    }
   ],
   "source": [
    "print(mu.shape)"
   ]
  },
  {
   "cell_type": "markdown",
   "metadata": {},
   "source": [
    "# Fitting a basic linear regression with no dynamic covariates"
   ]
  },
  {
   "cell_type": "markdown",
   "metadata": {},
   "source": [
    "### Defining the model in PyMC3"
   ]
  },
  {
   "cell_type": "code",
   "execution_count": 15,
   "metadata": {
    "scrolled": true
   },
   "outputs": [
    {
     "name": "stderr",
     "output_type": "stream",
     "text": [
      "INFO (theano.gof.compilelock): Waiting for existing lock by process '13164' (I am process '5221')\n",
      "INFO (theano.gof.compilelock): To manually release the lock, delete /Users/hao/.theano/compiledir_Darwin-18.7.0-x86_64-i386-64bit-i386-3.7.5-64/lock_dir\n"
     ]
    },
    {
     "name": "stdout",
     "output_type": "stream",
     "text": [
      "Elemwise{add,no_inplace}.0\n"
     ]
    },
    {
     "name": "stderr",
     "output_type": "stream",
     "text": [
      "Auto-assigning NUTS sampler...\n",
      "Initializing NUTS using jitter+adapt_diag...\n",
      "Multiprocess sampling (2 chains in 2 jobs)\n",
      "NUTS: [err_var, alpha, beta]\n",
      "Sampling 2 chains: 100%|██████████| 2000/2000 [00:04<00:00, 478.50draws/s]\n"
     ]
    }
   ],
   "source": [
    "with pm.Model() as basic_model:\n",
    "    beta    = pm.Normal('beta',shape=[p_static,1])\n",
    "    alpha   = pm.Normal('alpha')\n",
    "    mu      = pm.math.dot(covariates_static,beta) + alpha\n",
    "    print(mu)\n",
    "    err_var = pm.InverseGamma('err_var',0.1,0.1)\n",
    "    err_sd  = pm.Deterministic('err_sd',err_var**0.5)\n",
    "    y = pm.Normal('y',mu=mu,sd=err_sd,observed=response)\n",
    "    trace1 = pm.sample()"
   ]
  },
  {
   "cell_type": "markdown",
   "metadata": {},
   "source": [
    "### Examining the posterior samples"
   ]
  },
  {
   "cell_type": "code",
   "execution_count": null,
   "metadata": {},
   "outputs": [],
   "source": [
    "pm.plot_posterior(trace1,varnames=['beta','alpha','err_sd']);"
   ]
  },
  {
   "cell_type": "markdown",
   "metadata": {},
   "source": [
    "# Imputing missing responses"
   ]
  },
  {
   "cell_type": "code",
   "execution_count": null,
   "metadata": {},
   "outputs": [],
   "source": [
    "mask = np.random.randn(*response.shape) > 0\n",
    "masked_responses = np.ma.masked_array(data=response,mask=mask)\n"
   ]
  },
  {
   "cell_type": "code",
   "execution_count": null,
   "metadata": {},
   "outputs": [],
   "source": [
    "with pm.Model() as impute_model:\n",
    "    beta    = pm.Normal('beta',shape=[p_static,1])\n",
    "    alpha   = pm.Normal('alpha')\n",
    "    mu      = pm.math.dot(covariates_static,beta) + alpha\n",
    "    err_var = pm.InverseGamma('err_var',0.1,0.1)\n",
    "    err_sd  = pm.Deterministic('err_sd',err_var**0.5)\n",
    "    y = pm.Normal('y',mu=mu,sd=err_sd,observed=masked_responses)\n",
    "    trace2 = pm.sample()"
   ]
  },
  {
   "cell_type": "code",
   "execution_count": null,
   "metadata": {},
   "outputs": [],
   "source": [
    "trace2['y_missing'].shape"
   ]
  },
  {
   "cell_type": "markdown",
   "metadata": {},
   "source": [
    "# Fitting a regression on time-varying covariates"
   ]
  },
  {
   "cell_type": "code",
   "execution_count": null,
   "metadata": {},
   "outputs": [],
   "source": [
    "with pm.Model() as dynamic_covariate_model:\n",
    "    beta         = pm.Normal('beta',shape=[p_static,1])\n",
    "    alpha        = pm.Normal('alpha')\n",
    "    beta_dynamic = pm.Normal('beta_dynamic',shape=[p_dynamic])\n",
    "    mu      = pm.math.dot(covariates_static,beta) + pm.math.dot(covariates_dynamic,beta_dynamic) + alpha\n",
    "    err_var = pm.InverseGamma('err_var',0.1,0.1)\n",
    "    err_sd  = pm.Deterministic('err_sd',err_var**0.5)\n",
    "    y = pm.Normal('y',mu=mu,sd=err_sd,observed=response)\n",
    "    trace3 = pm.sample()"
   ]
  },
  {
   "cell_type": "code",
   "execution_count": null,
   "metadata": {},
   "outputs": [],
   "source": [
    "pm.forestplot(trace3,varnames=['beta_dynamic','beta','alpha','err_sd']);"
   ]
  },
  {
   "cell_type": "markdown",
   "metadata": {},
   "source": [
    "# Including an AR(1) error"
   ]
  },
  {
   "cell_type": "code",
   "execution_count": null,
   "metadata": {},
   "outputs": [],
   "source": [
    "with pm.Model() as correlated_error_model:\n",
    "    beta         = pm.Normal('beta',shape=[p_static,1])\n",
    "    alpha        = pm.Normal('alpha')\n",
    "    beta_dynamic = pm.Normal('beta_dynamic',shape=[p_dynamic])\n",
    "    mu           = pm.math.dot(covariates_static,beta) +pm.math.dot(covariates_dynamic,beta_dynamic) + alpha\n",
    "    \n",
    "    tau      = pm.Gamma('tau',0.1,0.1)\n",
    "    k        = pm.Uniform('k')\n",
    "    error    = pm.AR1('error', k=k, tau_e=tau, observed=(response-mu).T)\n",
    "    \n",
    "    trace4 = pm.sample(tune=1000)"
   ]
  },
  {
   "cell_type": "code",
   "execution_count": null,
   "metadata": {},
   "outputs": [],
   "source": [
    "pm.forestplot(trace4);"
   ]
  },
  {
   "cell_type": "code",
   "execution_count": null,
   "metadata": {},
   "outputs": [],
   "source": [
    "print('Posterior mean estimate of static coefficients:',trace4['beta'].mean(axis=0)[:,0])\n",
    "print('True value of static coefficients:',coef_static)"
   ]
  },
  {
   "cell_type": "code",
   "execution_count": null,
   "metadata": {},
   "outputs": [],
   "source": [
    "print('Posterior mean estimate of dynamic coefficients:',trace4['beta_dynamic'].mean(axis=0))\n",
    "print('True value of dynamic coefficients:',coef_dynamic)"
   ]
  },
  {
   "cell_type": "code",
   "execution_count": null,
   "metadata": {},
   "outputs": [],
   "source": [
    "print('Posterior mean estimate of AR1 autocorrelation:',trace4['k'].mean())\n",
    "print('True value of AR1 autocorrelation:',error_corr)"
   ]
  },
  {
   "cell_type": "markdown",
   "metadata": {},
   "source": [
    "# Debugging a model"
   ]
  },
  {
   "cell_type": "markdown",
   "metadata": {},
   "source": [
    "### Misspecified variable shapes"
   ]
  },
  {
   "cell_type": "code",
   "execution_count": null,
   "metadata": {},
   "outputs": [],
   "source": [
    "with pm.Model() as bad_model:\n",
    "    beta    = pm.Normal('beta',shape=[p_static,1])\n",
    "    alpha   = pm.Normal('alpha')\n",
    "    mu      = pm.math.dot(covariates_static,beta) + alpha\n",
    "    err_var = pm.InverseGamma('err_var',0.1,0.1)\n",
    "    err_sd  = pm.Deterministic('err_sd',err_var**0.5)\n",
    "    y = pm.Normal('y',mu=mu,sd=err_sd,observed=response)\n",
    "    trace4 = pm.sample()"
   ]
  },
  {
   "cell_type": "markdown",
   "metadata": {},
   "source": [
    "### Bad initial energy"
   ]
  },
  {
   "cell_type": "code",
   "execution_count": null,
   "metadata": {},
   "outputs": [],
   "source": [
    "with pm.Model() as bad_model:\n",
    "    beta    = pm.Normal('beta',shape=[p_static,1])\n",
    "    alpha   = pm.Normal('alpha')\n",
    "    mu      = pm.math.dot(covariates_static,beta) + alpha\n",
    "    err_var = pm.InverseGamma('err_var',0.1,0.1)\n",
    "    err_sd  = pm.Deterministic('err_sd',err_var**0.5)\n",
    "    y = pm.Normal('y',mu=mu,sd=-err_sd,observed=response)\n",
    "    trace4 = pm.sample()"
   ]
  },
  {
   "cell_type": "code",
   "execution_count": null,
   "metadata": {},
   "outputs": [],
   "source": [
    "for variable in bad_model.basic_RVs:\n",
    "    print(variable.name, variable.logp(bad_model.test_point))"
   ]
  },
  {
   "cell_type": "code",
   "execution_count": null,
   "metadata": {},
   "outputs": [],
   "source": [
    "mu"
   ]
  },
  {
   "cell_type": "markdown",
   "metadata": {},
   "source": [
    "### Missing input error"
   ]
  },
  {
   "cell_type": "code",
   "execution_count": null,
   "metadata": {},
   "outputs": [],
   "source": [
    "with pm.Model() as bad_model:\n",
    "    beta    = pm.Normal('beta',shape=[p_static,1])\n",
    "    alpha   = pm.Normal('alpha')\n",
    "    mu      = pm.math.dot(covariates_static,beta) + alpha\n",
    "    err_var = pm.InverseGamma('err_var',0.1,0.1)\n",
    "    err_sd  = pm.Deterministic('err_sd',err_var**0.5)\n",
    "    y = pm.Normal('y', mu=mu, sd=-err_sd,observed=response)\n",
    "    trace4 = pm.sample()"
   ]
  },
  {
   "cell_type": "code",
   "execution_count": null,
   "metadata": {},
   "outputs": [],
   "source": []
  }
 ],
 "metadata": {
  "kernelspec": {
   "display_name": "Python 3",
   "language": "python",
   "name": "python3"
  },
  "language_info": {
   "codemirror_mode": {
    "name": "ipython",
    "version": 3
   },
   "file_extension": ".py",
   "mimetype": "text/x-python",
   "name": "python",
   "nbconvert_exporter": "python",
   "pygments_lexer": "ipython3",
   "version": "3.7.5"
  }
 },
 "nbformat": 4,
 "nbformat_minor": 2
}
