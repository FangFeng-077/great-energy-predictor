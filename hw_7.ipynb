{
 "cells": [
  {
   "cell_type": "code",
   "execution_count": 1,
   "metadata": {},
   "outputs": [],
   "source": [
    "import pandas as pd\n",
    "import numpy as np\n",
    "\n",
    "import os\n",
    "os.environ['THEANO_FLAGS']='device=cpu'\n",
    "import pymc3 as pm\n",
    "import matplotlib.pyplot as plt\n",
    "%matplotlib inline"
   ]
  },
  {
   "cell_type": "code",
   "execution_count": 2,
   "metadata": {},
   "outputs": [
    {
     "name": "stdout",
     "output_type": "stream",
     "text": [
      "...loaded\n",
<<<<<<< HEAD
      "CPU times: user 10.1 s, sys: 1.53 s, total: 11.7 s\n",
      "Wall time: 11.4 s\n"
     ]
    }
   ],
   "source": [
    "%%time\n",
    "root = './input/'\n",
    "train_df = pd.read_csv(root + 'train.csv')\n",
    "train_df[\"timestamp\"] = pd.to_datetime(train_df[\"timestamp\"], format='%Y-%m-%d %H:%M:%S')\n",
    "\n",
    "weather_train_df = pd.read_csv(root + 'weather_train.csv')\n",
    "# test_df = pd.read_csv(root + 'test.csv')\n",
    "# weather_test_df = pd.read_csv(root + 'weather_test.csv')\n",
    "building_meta_df = pd.read_csv(root + 'building_metadata.csv')\n",
    "print('...loaded')"
   ]
  },
  {
   "cell_type": "code",
   "execution_count": 3,
   "metadata": {},
   "outputs": [
    {
     "name": "stdout",
     "output_type": "stream",
     "text": [
      "Size of train_df data (20216100, 4)\n",
      "Size of weather_train_df data (139773, 9)\n",
      "Size of building_meta_df data (1449, 6)\n"
     ]
    }
   ],
   "source": [
    "print('Size of train_df data', train_df.shape)\n",
    "print('Size of weather_train_df data', weather_train_df.shape)\n",
    "# print('Size of weather_test_df data', weather_test_df.shape)\n",
    "print('Size of building_meta_df data', building_meta_df.shape)"
   ]
  },
  {
   "cell_type": "code",
   "execution_count": 4,
   "metadata": {},
   "outputs": [],
   "source": [
    "## Function to reduce the DF size\n",
    "def reduce_mem_usage(df, verbose=True):\n",
    "    numerics = ['int16', 'int32', 'int64', 'float16', 'float32', 'float64']\n",
    "    start_mem = df.memory_usage().sum() / 1024**2    \n",
    "    for col in df.columns:\n",
    "        col_type = df[col].dtypes\n",
    "        if col_type in numerics:\n",
    "            c_min = df[col].min()\n",
    "            c_max = df[col].max()\n",
    "            if str(col_type)[:3] == 'int':\n",
    "                if c_min > np.iinfo(np.int8).min and c_max < np.iinfo(np.int8).max:\n",
    "                    df[col] = df[col].astype(np.int8)\n",
    "                elif c_min > np.iinfo(np.int16).min and c_max < np.iinfo(np.int16).max:\n",
    "                    df[col] = df[col].astype(np.int16)\n",
    "                elif c_min > np.iinfo(np.int32).min and c_max < np.iinfo(np.int32).max:\n",
    "                    df[col] = df[col].astype(np.int32)\n",
    "                elif c_min > np.iinfo(np.int64).min and c_max < np.iinfo(np.int64).max:\n",
    "                    df[col] = df[col].astype(np.int64)  \n",
    "            else:\n",
    "                if c_min > np.finfo(np.float16).min and c_max < np.finfo(np.float16).max:\n",
    "                    df[col] = df[col].astype(np.float16)\n",
    "                elif c_min > np.finfo(np.float32).min and c_max < np.finfo(np.float32).max:\n",
    "                    df[col] = df[col].astype(np.float32)\n",
    "                else:\n",
    "                    df[col] = df[col].astype(np.float64)    \n",
    "    end_mem = df.memory_usage().sum() / 1024**2\n",
    "    if verbose: print('Mem. usage decreased to {:5.2f} Mb ({:.1f}% reduction)'.format(end_mem, 100 * (start_mem - end_mem) / start_mem))\n",
    "    return df"
   ]
  },
  {
   "cell_type": "code",
   "execution_count": 5,
   "metadata": {},
   "outputs": [
    {
     "name": "stdout",
     "output_type": "stream",
     "text": [
      "Mem. usage decreased to 289.19 Mb (53.1% reduction)\n",
      "Mem. usage decreased to  3.07 Mb (68.1% reduction)\n",
      "Mem. usage decreased to  0.03 Mb (60.3% reduction)\n"
     ]
    }
   ],
   "source": [
    "train_df = reduce_mem_usage(train_df)\n",
    "# test_df = reduce_mem_usage(test_df)\n",
    "\n",
    "weather_train_df = reduce_mem_usage(weather_train_df)\n",
    "# weather_test_df = reduce_mem_usage(weather_test_df)\n",
    "building_meta_df = reduce_mem_usage(building_meta_df)"
   ]
  },
  {
   "cell_type": "code",
   "execution_count": 6,
   "metadata": {},
   "outputs": [
    {
     "data": {
      "text/html": [
       "<div>\n",
       "<style scoped>\n",
       "    .dataframe tbody tr th:only-of-type {\n",
       "        vertical-align: middle;\n",
       "    }\n",
       "\n",
       "    .dataframe tbody tr th {\n",
       "        vertical-align: top;\n",
       "    }\n",
       "\n",
       "    .dataframe thead th {\n",
       "        text-align: right;\n",
       "    }\n",
       "</style>\n",
       "<table border=\"1\" class=\"dataframe\">\n",
       "  <thead>\n",
       "    <tr style=\"text-align: right;\">\n",
       "      <th></th>\n",
       "      <th>building_id</th>\n",
       "      <th>meter</th>\n",
       "      <th>timestamp</th>\n",
       "      <th>meter_reading</th>\n",
       "    </tr>\n",
       "  </thead>\n",
       "  <tbody>\n",
       "    <tr>\n",
       "      <th>0</th>\n",
       "      <td>0</td>\n",
       "      <td>0</td>\n",
       "      <td>2016-01-01</td>\n",
       "      <td>0.0</td>\n",
       "    </tr>\n",
       "    <tr>\n",
       "      <th>1</th>\n",
       "      <td>1</td>\n",
       "      <td>0</td>\n",
       "      <td>2016-01-01</td>\n",
       "      <td>0.0</td>\n",
       "    </tr>\n",
       "    <tr>\n",
       "      <th>2</th>\n",
       "      <td>2</td>\n",
       "      <td>0</td>\n",
       "      <td>2016-01-01</td>\n",
       "      <td>0.0</td>\n",
       "    </tr>\n",
       "    <tr>\n",
       "      <th>3</th>\n",
       "      <td>3</td>\n",
       "      <td>0</td>\n",
       "      <td>2016-01-01</td>\n",
       "      <td>0.0</td>\n",
       "    </tr>\n",
       "    <tr>\n",
       "      <th>4</th>\n",
       "      <td>4</td>\n",
       "      <td>0</td>\n",
       "      <td>2016-01-01</td>\n",
       "      <td>0.0</td>\n",
       "    </tr>\n",
       "  </tbody>\n",
       "</table>\n",
       "</div>"
      ],
      "text/plain": [
       "   building_id  meter  timestamp  meter_reading\n",
       "0            0      0 2016-01-01            0.0\n",
       "1            1      0 2016-01-01            0.0\n",
       "2            2      0 2016-01-01            0.0\n",
       "3            3      0 2016-01-01            0.0\n",
       "4            4      0 2016-01-01            0.0"
      ]
     },
     "execution_count": 6,
     "metadata": {},
     "output_type": "execute_result"
    }
   ],
   "source": [
    "train_df.head()"
   ]
  },
  {
   "cell_type": "markdown",
   "metadata": {},
   "source": [
    " ### Building DF merge through concat"
   ]
  },
  {
   "cell_type": "code",
   "execution_count": 11,
   "metadata": {},
   "outputs": [],
   "source": [
    "train_df['timestamp'] = pd.to_datetime(train_df['timestamp'])\n",
    "# test_df['timestamp'] = pd.to_datetime(test_df['timestamp'])\n",
    "weather_train_df['timestamp'] = pd.to_datetime(weather_train_df['timestamp'])\n",
    "# weather_test_df['timestamp'] = pd.to_datetime(weather_test_df['timestamp'])"
   ]
  },
  {
   "cell_type": "code",
   "execution_count": 12,
   "metadata": {},
   "outputs": [],
   "source": [
    "temp_df = train_df[['building_id']]\n",
    "temp_df = temp_df.merge(building_meta_df, on=['building_id'], how='left')\n",
    "del temp_df['building_id']\n",
    "train_df = pd.concat([train_df, temp_df], axis=1)\n",
    "del temp_df, building_meta_df"
   ]
  },
  {
   "cell_type": "code",
   "execution_count": 13,
   "metadata": {},
   "outputs": [
    {
     "data": {
      "text/html": [
       "<div>\n",
       "<style scoped>\n",
       "    .dataframe tbody tr th:only-of-type {\n",
       "        vertical-align: middle;\n",
       "    }\n",
       "\n",
       "    .dataframe tbody tr th {\n",
       "        vertical-align: top;\n",
       "    }\n",
       "\n",
       "    .dataframe thead th {\n",
       "        text-align: right;\n",
       "    }\n",
       "</style>\n",
       "<table border=\"1\" class=\"dataframe\">\n",
       "  <thead>\n",
       "    <tr style=\"text-align: right;\">\n",
       "      <th></th>\n",
       "      <th>building_id</th>\n",
       "      <th>meter</th>\n",
       "      <th>timestamp</th>\n",
       "      <th>meter_reading</th>\n",
       "      <th>site_id</th>\n",
       "      <th>primary_use</th>\n",
       "      <th>square_feet</th>\n",
       "      <th>year_built</th>\n",
       "      <th>floor_count</th>\n",
       "    </tr>\n",
       "  </thead>\n",
       "  <tbody>\n",
       "    <tr>\n",
       "      <th>0</th>\n",
       "      <td>0</td>\n",
       "      <td>0</td>\n",
       "      <td>2016-01-01</td>\n",
       "      <td>0.0</td>\n",
       "      <td>0</td>\n",
       "      <td>Education</td>\n",
       "      <td>7432</td>\n",
       "      <td>2008.0</td>\n",
       "      <td>NaN</td>\n",
       "    </tr>\n",
       "    <tr>\n",
       "      <th>1</th>\n",
       "      <td>1</td>\n",
       "      <td>0</td>\n",
       "      <td>2016-01-01</td>\n",
       "      <td>0.0</td>\n",
       "      <td>0</td>\n",
       "      <td>Education</td>\n",
       "      <td>2720</td>\n",
       "      <td>2004.0</td>\n",
       "      <td>NaN</td>\n",
       "    </tr>\n",
       "    <tr>\n",
       "      <th>2</th>\n",
       "      <td>2</td>\n",
       "      <td>0</td>\n",
       "      <td>2016-01-01</td>\n",
       "      <td>0.0</td>\n",
       "      <td>0</td>\n",
       "      <td>Education</td>\n",
       "      <td>5376</td>\n",
       "      <td>1991.0</td>\n",
       "      <td>NaN</td>\n",
       "    </tr>\n",
       "    <tr>\n",
       "      <th>3</th>\n",
       "      <td>3</td>\n",
       "      <td>0</td>\n",
       "      <td>2016-01-01</td>\n",
       "      <td>0.0</td>\n",
       "      <td>0</td>\n",
       "      <td>Education</td>\n",
       "      <td>23685</td>\n",
       "      <td>2002.0</td>\n",
       "      <td>NaN</td>\n",
       "    </tr>\n",
       "    <tr>\n",
       "      <th>4</th>\n",
       "      <td>4</td>\n",
       "      <td>0</td>\n",
       "      <td>2016-01-01</td>\n",
       "      <td>0.0</td>\n",
       "      <td>0</td>\n",
       "      <td>Education</td>\n",
       "      <td>116607</td>\n",
       "      <td>1975.0</td>\n",
       "      <td>NaN</td>\n",
       "    </tr>\n",
       "  </tbody>\n",
       "</table>\n",
       "</div>"
      ],
      "text/plain": [
       "   building_id  meter  timestamp  meter_reading  site_id primary_use  \\\n",
       "0            0      0 2016-01-01            0.0        0   Education   \n",
       "1            1      0 2016-01-01            0.0        0   Education   \n",
       "2            2      0 2016-01-01            0.0        0   Education   \n",
       "3            3      0 2016-01-01            0.0        0   Education   \n",
       "4            4      0 2016-01-01            0.0        0   Education   \n",
       "\n",
       "   square_feet  year_built  floor_count  \n",
       "0         7432      2008.0          NaN  \n",
       "1         2720      2004.0          NaN  \n",
       "2         5376      1991.0          NaN  \n",
       "3        23685      2002.0          NaN  \n",
       "4       116607      1975.0          NaN  "
      ]
     },
     "execution_count": 13,
     "metadata": {},
     "output_type": "execute_result"
    }
   ],
   "source": [
    "train_df.head()"
   ]
  },
  {
   "cell_type": "markdown",
   "metadata": {},
   "source": [
    "### Weather DF merge over concat"
   ]
  },
  {
   "cell_type": "code",
   "execution_count": 15,
   "metadata": {},
   "outputs": [],
   "source": [
    "temp_df = train_df[['site_id','timestamp']]\n",
    "temp_df = temp_df.merge(weather_train_df, on=['site_id','timestamp'], how='left')\n",
    "\n",
    "del temp_df['site_id'], temp_df['timestamp']\n",
    "train_df = pd.concat([train_df, temp_df], axis=1)"
   ]
  },
  {
   "cell_type": "code",
   "execution_count": 16,
   "metadata": {},
   "outputs": [
    {
     "data": {
      "text/html": [
       "<div>\n",
       "<style scoped>\n",
       "    .dataframe tbody tr th:only-of-type {\n",
       "        vertical-align: middle;\n",
       "    }\n",
       "\n",
       "    .dataframe tbody tr th {\n",
       "        vertical-align: top;\n",
       "    }\n",
       "\n",
       "    .dataframe thead th {\n",
       "        text-align: right;\n",
       "    }\n",
       "</style>\n",
       "<table border=\"1\" class=\"dataframe\">\n",
       "  <thead>\n",
       "    <tr style=\"text-align: right;\">\n",
       "      <th></th>\n",
       "      <th>building_id</th>\n",
       "      <th>meter</th>\n",
       "      <th>timestamp</th>\n",
       "      <th>meter_reading</th>\n",
       "      <th>site_id</th>\n",
       "      <th>primary_use</th>\n",
       "      <th>square_feet</th>\n",
       "      <th>year_built</th>\n",
       "      <th>floor_count</th>\n",
       "      <th>air_temperature</th>\n",
       "      <th>cloud_coverage</th>\n",
       "      <th>dew_temperature</th>\n",
       "      <th>precip_depth_1_hr</th>\n",
       "      <th>sea_level_pressure</th>\n",
       "      <th>wind_direction</th>\n",
       "      <th>wind_speed</th>\n",
       "    </tr>\n",
       "  </thead>\n",
       "  <tbody>\n",
       "    <tr>\n",
       "      <th>0</th>\n",
       "      <td>0</td>\n",
       "      <td>0</td>\n",
       "      <td>2016-01-01</td>\n",
       "      <td>0.0</td>\n",
       "      <td>0</td>\n",
       "      <td>Education</td>\n",
       "      <td>7432</td>\n",
       "      <td>2008.0</td>\n",
       "      <td>NaN</td>\n",
       "      <td>25.0</td>\n",
       "      <td>6.0</td>\n",
       "      <td>20.0</td>\n",
       "      <td>NaN</td>\n",
       "      <td>1019.5</td>\n",
       "      <td>0.0</td>\n",
       "      <td>0.0</td>\n",
       "    </tr>\n",
       "    <tr>\n",
       "      <th>1</th>\n",
       "      <td>1</td>\n",
       "      <td>0</td>\n",
       "      <td>2016-01-01</td>\n",
       "      <td>0.0</td>\n",
       "      <td>0</td>\n",
       "      <td>Education</td>\n",
       "      <td>2720</td>\n",
       "      <td>2004.0</td>\n",
       "      <td>NaN</td>\n",
       "      <td>25.0</td>\n",
       "      <td>6.0</td>\n",
       "      <td>20.0</td>\n",
       "      <td>NaN</td>\n",
       "      <td>1019.5</td>\n",
       "      <td>0.0</td>\n",
       "      <td>0.0</td>\n",
       "    </tr>\n",
       "    <tr>\n",
       "      <th>2</th>\n",
       "      <td>2</td>\n",
       "      <td>0</td>\n",
       "      <td>2016-01-01</td>\n",
       "      <td>0.0</td>\n",
       "      <td>0</td>\n",
       "      <td>Education</td>\n",
       "      <td>5376</td>\n",
       "      <td>1991.0</td>\n",
       "      <td>NaN</td>\n",
       "      <td>25.0</td>\n",
       "      <td>6.0</td>\n",
       "      <td>20.0</td>\n",
       "      <td>NaN</td>\n",
       "      <td>1019.5</td>\n",
       "      <td>0.0</td>\n",
       "      <td>0.0</td>\n",
       "    </tr>\n",
       "    <tr>\n",
       "      <th>3</th>\n",
       "      <td>3</td>\n",
       "      <td>0</td>\n",
       "      <td>2016-01-01</td>\n",
       "      <td>0.0</td>\n",
       "      <td>0</td>\n",
       "      <td>Education</td>\n",
       "      <td>23685</td>\n",
       "      <td>2002.0</td>\n",
       "      <td>NaN</td>\n",
       "      <td>25.0</td>\n",
       "      <td>6.0</td>\n",
       "      <td>20.0</td>\n",
       "      <td>NaN</td>\n",
       "      <td>1019.5</td>\n",
       "      <td>0.0</td>\n",
       "      <td>0.0</td>\n",
       "    </tr>\n",
       "    <tr>\n",
       "      <th>4</th>\n",
       "      <td>4</td>\n",
       "      <td>0</td>\n",
       "      <td>2016-01-01</td>\n",
       "      <td>0.0</td>\n",
       "      <td>0</td>\n",
       "      <td>Education</td>\n",
       "      <td>116607</td>\n",
       "      <td>1975.0</td>\n",
       "      <td>NaN</td>\n",
       "      <td>25.0</td>\n",
       "      <td>6.0</td>\n",
       "      <td>20.0</td>\n",
       "      <td>NaN</td>\n",
       "      <td>1019.5</td>\n",
       "      <td>0.0</td>\n",
       "      <td>0.0</td>\n",
       "    </tr>\n",
       "  </tbody>\n",
       "</table>\n",
       "</div>"
      ],
      "text/plain": [
       "   building_id  meter  timestamp  meter_reading  site_id primary_use  \\\n",
       "0            0      0 2016-01-01            0.0        0   Education   \n",
       "1            1      0 2016-01-01            0.0        0   Education   \n",
       "2            2      0 2016-01-01            0.0        0   Education   \n",
       "3            3      0 2016-01-01            0.0        0   Education   \n",
       "4            4      0 2016-01-01            0.0        0   Education   \n",
       "\n",
       "   square_feet  year_built  floor_count  air_temperature  cloud_coverage  \\\n",
       "0         7432      2008.0          NaN             25.0             6.0   \n",
       "1         2720      2004.0          NaN             25.0             6.0   \n",
       "2         5376      1991.0          NaN             25.0             6.0   \n",
       "3        23685      2002.0          NaN             25.0             6.0   \n",
       "4       116607      1975.0          NaN             25.0             6.0   \n",
       "\n",
       "   dew_temperature  precip_depth_1_hr  sea_level_pressure  wind_direction  \\\n",
       "0             20.0                NaN              1019.5             0.0   \n",
       "1             20.0                NaN              1019.5             0.0   \n",
       "2             20.0                NaN              1019.5             0.0   \n",
       "3             20.0                NaN              1019.5             0.0   \n",
       "4             20.0                NaN              1019.5             0.0   \n",
       "\n",
       "   wind_speed  \n",
       "0         0.0  \n",
       "1         0.0  \n",
       "2         0.0  \n",
       "3         0.0  \n",
       "4         0.0  "
      ]
     },
     "execution_count": 16,
     "metadata": {},
     "output_type": "execute_result"
    }
   ],
   "source": [
    "train_df.head()"
   ]
  },
  {
   "cell_type": "code",
   "execution_count": 18,
   "metadata": {},
   "outputs": [
    {
     "name": "stdout",
     "output_type": "stream",
     "text": [
      "(20216100, 16)\n"
     ]
    }
   ],
   "source": [
    "print(train_df.shape)"
   ]
  },
  {
   "cell_type": "code",
   "execution_count": 19,
   "metadata": {},
   "outputs": [],
   "source": [
    "# find missing values\n",
    "def find_missing_data(df):\n",
    "    total = df.isnull().sum().sort_values(ascending = False)\n",
    "    percent = (df.isnull().sum()/df.isnull().count()*100).sort_values(ascending = False)\n",
    "    missing_train_data  = pd.concat([total, percent], axis=1, keys=['Total', 'Percent'])\n",
    "    return missing_train_data"
   ]
  },
  {
   "cell_type": "code",
   "execution_count": 20,
   "metadata": {},
   "outputs": [],
   "source": [
    "# drop missing value columns\n",
    "train_df = train_df.drop(columns=['floor_count'])"
   ]
  },
  {
   "cell_type": "code",
   "execution_count": 22,
   "metadata": {},
   "outputs": [
    {
     "data": {
      "text/html": [
       "<div>\n",
       "<style scoped>\n",
       "    .dataframe tbody tr th:only-of-type {\n",
       "        vertical-align: middle;\n",
       "    }\n",
       "\n",
       "    .dataframe tbody tr th {\n",
       "        vertical-align: top;\n",
       "    }\n",
       "\n",
       "    .dataframe thead th {\n",
       "        text-align: right;\n",
       "    }\n",
       "</style>\n",
       "<table border=\"1\" class=\"dataframe\">\n",
       "  <thead>\n",
       "    <tr style=\"text-align: right;\">\n",
       "      <th></th>\n",
       "      <th>building_id</th>\n",
       "      <th>meter</th>\n",
       "      <th>timestamp</th>\n",
       "      <th>meter_reading</th>\n",
       "      <th>site_id</th>\n",
       "      <th>primary_use</th>\n",
       "      <th>square_feet</th>\n",
       "      <th>year_built</th>\n",
       "      <th>air_temperature</th>\n",
       "      <th>cloud_coverage</th>\n",
       "      <th>dew_temperature</th>\n",
       "      <th>precip_depth_1_hr</th>\n",
       "      <th>sea_level_pressure</th>\n",
       "      <th>wind_direction</th>\n",
       "      <th>wind_speed</th>\n",
       "    </tr>\n",
       "  </thead>\n",
       "  <tbody>\n",
       "    <tr>\n",
       "      <th>0</th>\n",
       "      <td>0</td>\n",
       "      <td>0</td>\n",
       "      <td>2016-01-01</td>\n",
       "      <td>0.0</td>\n",
       "      <td>0</td>\n",
       "      <td>Education</td>\n",
       "      <td>7432</td>\n",
       "      <td>2008.0</td>\n",
       "      <td>25.0</td>\n",
       "      <td>6.0</td>\n",
       "      <td>20.0</td>\n",
       "      <td>NaN</td>\n",
       "      <td>1019.5</td>\n",
       "      <td>0.0</td>\n",
       "      <td>0.0</td>\n",
       "    </tr>\n",
       "    <tr>\n",
       "      <th>1</th>\n",
       "      <td>1</td>\n",
       "      <td>0</td>\n",
       "      <td>2016-01-01</td>\n",
       "      <td>0.0</td>\n",
       "      <td>0</td>\n",
       "      <td>Education</td>\n",
       "      <td>2720</td>\n",
       "      <td>2004.0</td>\n",
       "      <td>25.0</td>\n",
       "      <td>6.0</td>\n",
       "      <td>20.0</td>\n",
       "      <td>NaN</td>\n",
       "      <td>1019.5</td>\n",
       "      <td>0.0</td>\n",
       "      <td>0.0</td>\n",
       "    </tr>\n",
       "    <tr>\n",
       "      <th>2</th>\n",
       "      <td>2</td>\n",
       "      <td>0</td>\n",
       "      <td>2016-01-01</td>\n",
       "      <td>0.0</td>\n",
       "      <td>0</td>\n",
       "      <td>Education</td>\n",
       "      <td>5376</td>\n",
       "      <td>1991.0</td>\n",
       "      <td>25.0</td>\n",
       "      <td>6.0</td>\n",
       "      <td>20.0</td>\n",
       "      <td>NaN</td>\n",
       "      <td>1019.5</td>\n",
       "      <td>0.0</td>\n",
       "      <td>0.0</td>\n",
       "    </tr>\n",
       "    <tr>\n",
       "      <th>3</th>\n",
       "      <td>3</td>\n",
       "      <td>0</td>\n",
       "      <td>2016-01-01</td>\n",
       "      <td>0.0</td>\n",
       "      <td>0</td>\n",
       "      <td>Education</td>\n",
       "      <td>23685</td>\n",
       "      <td>2002.0</td>\n",
       "      <td>25.0</td>\n",
       "      <td>6.0</td>\n",
       "      <td>20.0</td>\n",
       "      <td>NaN</td>\n",
       "      <td>1019.5</td>\n",
       "      <td>0.0</td>\n",
       "      <td>0.0</td>\n",
       "    </tr>\n",
       "    <tr>\n",
       "      <th>4</th>\n",
       "      <td>4</td>\n",
       "      <td>0</td>\n",
       "      <td>2016-01-01</td>\n",
       "      <td>0.0</td>\n",
       "      <td>0</td>\n",
       "      <td>Education</td>\n",
       "      <td>116607</td>\n",
       "      <td>1975.0</td>\n",
       "      <td>25.0</td>\n",
       "      <td>6.0</td>\n",
       "      <td>20.0</td>\n",
       "      <td>NaN</td>\n",
       "      <td>1019.5</td>\n",
       "      <td>0.0</td>\n",
       "      <td>0.0</td>\n",
       "    </tr>\n",
       "  </tbody>\n",
       "</table>\n",
       "</div>"
      ],
      "text/plain": [
       "   building_id  meter  timestamp  meter_reading  site_id primary_use  \\\n",
       "0            0      0 2016-01-01            0.0        0   Education   \n",
       "1            1      0 2016-01-01            0.0        0   Education   \n",
       "2            2      0 2016-01-01            0.0        0   Education   \n",
       "3            3      0 2016-01-01            0.0        0   Education   \n",
       "4            4      0 2016-01-01            0.0        0   Education   \n",
       "\n",
       "   square_feet  year_built  air_temperature  cloud_coverage  dew_temperature  \\\n",
       "0         7432      2008.0             25.0             6.0             20.0   \n",
       "1         2720      2004.0             25.0             6.0             20.0   \n",
       "2         5376      1991.0             25.0             6.0             20.0   \n",
       "3        23685      2002.0             25.0             6.0             20.0   \n",
       "4       116607      1975.0             25.0             6.0             20.0   \n",
       "\n",
       "   precip_depth_1_hr  sea_level_pressure  wind_direction  wind_speed  \n",
       "0                NaN              1019.5             0.0         0.0  \n",
       "1                NaN              1019.5             0.0         0.0  \n",
       "2                NaN              1019.5             0.0         0.0  \n",
       "3                NaN              1019.5             0.0         0.0  \n",
       "4                NaN              1019.5             0.0         0.0  "
      ]
     },
     "execution_count": 22,
     "metadata": {},
     "output_type": "execute_result"
    }
   ],
   "source": [
    "# check shape after drop\n",
    "train_df.head()"
   ]
  },
  {
   "cell_type": "code",
   "execution_count": 23,
   "metadata": {},
   "outputs": [],
   "source": [
    "site_2 = train_df.loc[(train_df['site_id'] == 2) & (train_df['year_built'] > 2005) & (train_df['year_built'] < 2009)]"
   ]
  },
  {
   "cell_type": "code",
   "execution_count": 24,
   "metadata": {},
   "outputs": [
    {
     "data": {
      "text/html": [
       "<div>\n",
       "<style scoped>\n",
       "    .dataframe tbody tr th:only-of-type {\n",
       "        vertical-align: middle;\n",
       "    }\n",
       "\n",
       "    .dataframe tbody tr th {\n",
       "        vertical-align: top;\n",
       "    }\n",
       "\n",
       "    .dataframe thead th {\n",
       "        text-align: right;\n",
       "    }\n",
       "</style>\n",
       "<table border=\"1\" class=\"dataframe\">\n",
       "  <thead>\n",
       "    <tr style=\"text-align: right;\">\n",
       "      <th></th>\n",
       "      <th>building_id</th>\n",
       "      <th>meter</th>\n",
       "      <th>timestamp</th>\n",
       "      <th>meter_reading</th>\n",
       "      <th>site_id</th>\n",
       "      <th>primary_use</th>\n",
       "      <th>square_feet</th>\n",
       "      <th>year_built</th>\n",
       "      <th>air_temperature</th>\n",
       "      <th>cloud_coverage</th>\n",
       "      <th>dew_temperature</th>\n",
       "      <th>precip_depth_1_hr</th>\n",
       "      <th>sea_level_pressure</th>\n",
       "      <th>wind_direction</th>\n",
       "      <th>wind_speed</th>\n",
       "    </tr>\n",
       "  </thead>\n",
       "  <tbody>\n",
       "    <tr>\n",
       "      <th>166</th>\n",
       "      <td>156</td>\n",
       "      <td>0</td>\n",
       "      <td>2016-01-01</td>\n",
       "      <td>114.709999</td>\n",
       "      <td>2</td>\n",
       "      <td>Public services</td>\n",
       "      <td>43681</td>\n",
       "      <td>2007.0</td>\n",
       "      <td>15.601562</td>\n",
       "      <td>6.0</td>\n",
       "      <td>-5.601562</td>\n",
       "      <td>NaN</td>\n",
       "      <td>1015.5</td>\n",
       "      <td>270.0</td>\n",
       "      <td>3.599609</td>\n",
       "    </tr>\n",
       "    <tr>\n",
       "      <th>189</th>\n",
       "      <td>169</td>\n",
       "      <td>0</td>\n",
       "      <td>2016-01-01</td>\n",
       "      <td>468.709991</td>\n",
       "      <td>2</td>\n",
       "      <td>Education</td>\n",
       "      <td>179559</td>\n",
       "      <td>2006.0</td>\n",
       "      <td>15.601562</td>\n",
       "      <td>6.0</td>\n",
       "      <td>-5.601562</td>\n",
       "      <td>NaN</td>\n",
       "      <td>1015.5</td>\n",
       "      <td>270.0</td>\n",
       "      <td>3.599609</td>\n",
       "    </tr>\n",
       "    <tr>\n",
       "      <th>190</th>\n",
       "      <td>169</td>\n",
       "      <td>1</td>\n",
       "      <td>2016-01-01</td>\n",
       "      <td>176.686005</td>\n",
       "      <td>2</td>\n",
       "      <td>Education</td>\n",
       "      <td>179559</td>\n",
       "      <td>2006.0</td>\n",
       "      <td>15.601562</td>\n",
       "      <td>6.0</td>\n",
       "      <td>-5.601562</td>\n",
       "      <td>NaN</td>\n",
       "      <td>1015.5</td>\n",
       "      <td>270.0</td>\n",
       "      <td>3.599609</td>\n",
       "    </tr>\n",
       "    <tr>\n",
       "      <th>191</th>\n",
       "      <td>169</td>\n",
       "      <td>3</td>\n",
       "      <td>2016-01-01</td>\n",
       "      <td>296.002014</td>\n",
       "      <td>2</td>\n",
       "      <td>Education</td>\n",
       "      <td>179559</td>\n",
       "      <td>2006.0</td>\n",
       "      <td>15.601562</td>\n",
       "      <td>6.0</td>\n",
       "      <td>-5.601562</td>\n",
       "      <td>NaN</td>\n",
       "      <td>1015.5</td>\n",
       "      <td>270.0</td>\n",
       "      <td>3.599609</td>\n",
       "    </tr>\n",
       "    <tr>\n",
       "      <th>263</th>\n",
       "      <td>202</td>\n",
       "      <td>0</td>\n",
       "      <td>2016-01-01</td>\n",
       "      <td>143.250000</td>\n",
       "      <td>2</td>\n",
       "      <td>Lodging/residential</td>\n",
       "      <td>74682</td>\n",
       "      <td>2006.0</td>\n",
       "      <td>15.601562</td>\n",
       "      <td>6.0</td>\n",
       "      <td>-5.601562</td>\n",
       "      <td>NaN</td>\n",
       "      <td>1015.5</td>\n",
       "      <td>270.0</td>\n",
       "      <td>3.599609</td>\n",
       "    </tr>\n",
       "  </tbody>\n",
       "</table>\n",
       "</div>"
      ],
      "text/plain": [
       "     building_id  meter  timestamp  meter_reading  site_id  \\\n",
       "166          156      0 2016-01-01     114.709999        2   \n",
       "189          169      0 2016-01-01     468.709991        2   \n",
       "190          169      1 2016-01-01     176.686005        2   \n",
       "191          169      3 2016-01-01     296.002014        2   \n",
       "263          202      0 2016-01-01     143.250000        2   \n",
       "\n",
       "             primary_use  square_feet  year_built  air_temperature  \\\n",
       "166      Public services        43681      2007.0        15.601562   \n",
       "189            Education       179559      2006.0        15.601562   \n",
       "190            Education       179559      2006.0        15.601562   \n",
       "191            Education       179559      2006.0        15.601562   \n",
       "263  Lodging/residential        74682      2006.0        15.601562   \n",
       "\n",
       "     cloud_coverage  dew_temperature  precip_depth_1_hr  sea_level_pressure  \\\n",
       "166             6.0        -5.601562                NaN              1015.5   \n",
       "189             6.0        -5.601562                NaN              1015.5   \n",
       "190             6.0        -5.601562                NaN              1015.5   \n",
       "191             6.0        -5.601562                NaN              1015.5   \n",
       "263             6.0        -5.601562                NaN              1015.5   \n",
       "\n",
       "     wind_direction  wind_speed  \n",
       "166           270.0    3.599609  \n",
       "189           270.0    3.599609  \n",
       "190           270.0    3.599609  \n",
       "191           270.0    3.599609  \n",
       "263           270.0    3.599609  "
      ]
     },
     "execution_count": 24,
     "metadata": {},
     "output_type": "execute_result"
    }
   ],
   "source": [
    "site_2.head()"
   ]
  },
  {
   "cell_type": "code",
   "execution_count": 25,
   "metadata": {},
   "outputs": [
    {
     "data": {
      "text/plain": [
       "209    26308\n",
       "169    26299\n",
       "203    26254\n",
       "202    25896\n",
       "156     8783\n",
       "280     8781\n",
       "Name: building_id, dtype: int64"
      ]
     },
     "execution_count": 25,
     "metadata": {},
     "output_type": "execute_result"
    }
   ],
   "source": [
    "site_2['building_id'].value_counts()"
   ]
  },
  {
   "cell_type": "code",
   "execution_count": 26,
   "metadata": {},
   "outputs": [],
   "source": [
    "builds = ['209','169','203']\n",
    "builds_selected = train_df.loc[train_df['building_id'].isin(builds)]\n",
    "#builds_selected.head(20)"
   ]
  },
  {
   "cell_type": "code",
   "execution_count": 27,
   "metadata": {},
   "outputs": [
    {
     "data": {
      "text/plain": [
       "dtype('int8')"
      ]
     },
     "execution_count": 27,
     "metadata": {},
     "output_type": "execute_result"
    }
   ],
   "source": [
    "find_missing_data(builds_selected)\n",
    "builds_selected['year_built'].value_counts()\n",
    "builds_selected['meter'].value_counts()\n",
    "builds_selected['meter'].dtype"
   ]
  },
  {
   "cell_type": "code",
   "execution_count": null,
   "metadata": {},
   "outputs": [],
   "source": [
    "builds_selected['meter'] = builds_selected['meter'].astype('category')\n",
    "builds_selected['primary_use'] = builds_selected['primary_use'].astype('category')\n",
    "#builds_selected.head(20)"
   ]
  },
  {
   "cell_type": "code",
   "execution_count": 29,
   "metadata": {},
   "outputs": [],
   "source": [
    "#builds_selected.fillna(method='ffill')"
   ]
  },
  {
   "cell_type": "code",
   "execution_count": 30,
   "metadata": {},
   "outputs": [],
   "source": [
    "df = builds_selected.drop(columns = ['building_id','site_id','cloud_coverage','year_built'])"
   ]
  },
  {
   "cell_type": "code",
   "execution_count": 31,
   "metadata": {},
   "outputs": [
    {
     "data": {
      "text/html": [
       "<div>\n",
       "<style scoped>\n",
       "    .dataframe tbody tr th:only-of-type {\n",
       "        vertical-align: middle;\n",
       "    }\n",
       "\n",
       "    .dataframe tbody tr th {\n",
       "        vertical-align: top;\n",
       "    }\n",
       "\n",
       "    .dataframe thead th {\n",
       "        text-align: right;\n",
       "    }\n",
       "</style>\n",
       "<table border=\"1\" class=\"dataframe\">\n",
       "  <thead>\n",
       "    <tr style=\"text-align: right;\">\n",
       "      <th></th>\n",
       "      <th>Total</th>\n",
       "      <th>Percent</th>\n",
       "    </tr>\n",
       "  </thead>\n",
       "  <tbody>\n",
       "    <tr>\n",
       "      <th>wind_direction</th>\n",
       "      <td>5323</td>\n",
       "      <td>6.749851</td>\n",
       "    </tr>\n",
       "    <tr>\n",
       "      <th>precip_depth_1_hr</th>\n",
       "      <td>603</td>\n",
       "      <td>0.764637</td>\n",
       "    </tr>\n",
       "    <tr>\n",
       "      <th>sea_level_pressure</th>\n",
       "      <td>405</td>\n",
       "      <td>0.513562</td>\n",
       "    </tr>\n",
       "    <tr>\n",
       "      <th>wind_speed</th>\n",
       "      <td>54</td>\n",
       "      <td>0.068475</td>\n",
       "    </tr>\n",
       "    <tr>\n",
       "      <th>dew_temperature</th>\n",
       "      <td>18</td>\n",
       "      <td>0.022825</td>\n",
       "    </tr>\n",
       "    <tr>\n",
       "      <th>air_temperature</th>\n",
       "      <td>18</td>\n",
       "      <td>0.022825</td>\n",
       "    </tr>\n",
       "    <tr>\n",
       "      <th>square_feet</th>\n",
       "      <td>0</td>\n",
       "      <td>0.000000</td>\n",
       "    </tr>\n",
       "    <tr>\n",
       "      <th>primary_use</th>\n",
       "      <td>0</td>\n",
       "      <td>0.000000</td>\n",
       "    </tr>\n",
       "    <tr>\n",
       "      <th>meter_reading</th>\n",
       "      <td>0</td>\n",
       "      <td>0.000000</td>\n",
       "    </tr>\n",
       "    <tr>\n",
       "      <th>timestamp</th>\n",
       "      <td>0</td>\n",
       "      <td>0.000000</td>\n",
       "    </tr>\n",
       "    <tr>\n",
       "      <th>meter</th>\n",
       "      <td>0</td>\n",
       "      <td>0.000000</td>\n",
       "    </tr>\n",
       "  </tbody>\n",
       "</table>\n",
       "</div>"
      ],
      "text/plain": [
       "                    Total   Percent\n",
       "wind_direction       5323  6.749851\n",
       "precip_depth_1_hr     603  0.764637\n",
       "sea_level_pressure    405  0.513562\n",
       "wind_speed             54  0.068475\n",
       "dew_temperature        18  0.022825\n",
       "air_temperature        18  0.022825\n",
       "square_feet             0  0.000000\n",
       "primary_use             0  0.000000\n",
       "meter_reading           0  0.000000\n",
       "timestamp               0  0.000000\n",
       "meter                   0  0.000000"
      ]
     },
     "execution_count": 31,
     "metadata": {},
     "output_type": "execute_result"
    }
   ],
   "source": [
    "find_missing_data(df)\n",
    "#df['wind_direction'].astype('float32')\n",
    "#df.isin(['wind_direction','precip_depth_1_hr','sea_level_pressure','wind_speed','dew_temperature','air_temperature']).astype('float32')"
   ]
  },
  {
   "cell_type": "code",
   "execution_count": 32,
   "metadata": {},
   "outputs": [],
   "source": [
    "missing = ['wind_direction','precip_depth_1_hr','sea_level_pressure','wind_speed','dew_temperature','air_temperature']\n",
    "df1 = df.isin(missing).fillna('-999')"
   ]
  },
  {
   "cell_type": "code",
   "execution_count": 33,
   "metadata": {},
   "outputs": [
    {
     "data": {
      "text/plain": [
       "Index(['meter', 'timestamp', 'meter_reading', 'primary_use', 'square_feet',\n",
       "       'air_temperature', 'dew_temperature', 'precip_depth_1_hr',\n",
       "       'sea_level_pressure', 'wind_direction', 'wind_speed'],\n",
       "      dtype='object')"
      ]
     },
     "execution_count": 33,
     "metadata": {},
     "output_type": "execute_result"
    }
   ],
   "source": [
    "df.columns"
   ]
  },
  {
   "cell_type": "markdown",
   "metadata": {},
   "source": [
    "## Fitting a basic linear regression "
   ]
  },
  {
   "cell_type": "code",
   "execution_count": 34,
   "metadata": {},
   "outputs": [],
   "source": [
    "predictors =['meter', 'primary_use', 'square_feet','air_temperature', 'dew_temperature', 'precip_depth_1_hr',\n",
    "       'sea_level_pressure', 'wind_direction', 'wind_speed']"
   ]
  },
  {
   "cell_type": "code",
   "execution_count": 89,
   "metadata": {},
   "outputs": [
    {
     "name": "stderr",
     "output_type": "stream",
     "text": [
      "Auto-assigning NUTS sampler...\n",
      "Initializing NUTS using jitter+adapt_diag...\n",
      "Multiprocess sampling (2 chains in 2 jobs)\n",
      "NUTS: [variance, beta, intercept]\n",
      "Sampling 2 chains: 100%|██████████| 2000/2000 [01:56<00:00, 17.19draws/s] \n",
      "The acceptance probability does not match the target. It is 0.9969593986572424, but should be close to 0.8. Try to increase the number of tuning steps.\n",
      "The acceptance probability does not match the target. It is 0.9573071076278611, but should be close to 0.8. Try to increase the number of tuning steps.\n"
     ]
    }
   ],
   "source": [
    "multiple_model = pm.Model()\n",
    "with multiple_model:\n",
    "    intercept = pm.Normal('intercept')\n",
    "    beta      = pm.Normal('beta', shape=len(predictors))\n",
    "#    beta_dynamic = pm.Normal('beta_dynamic')\n",
    "    variance  = pm.InverseGamma('variance', alpha=0.1, beta=0.1)\n",
    "    sd        = pm.Deterministic('sd', variance**0.5)\n",
    "    yhat1  = pm.Deterministic('yhat1',intercept + pm.math.dot(df1[predictors], beta))\n",
    "#    yhat1 = intercept + pm.math.dot(df[predictors],beta) + pm.math.dot(df['timestamp'],beta_dynamic)\n",
    "    y   = pm.Normal('y', mu=yhat1, sd=sd, observed=df1['meter_reading'])\n",
    "    \n",
    "    trace = pm.sample()"
   ]
  },
  {
   "cell_type": "code",
   "execution_count": 37,
   "metadata": {},
   "outputs": [
    {
<<<<<<< HEAD
     "ename": "ImportError",
     "evalue": "ArviZ is not installed. In order to use `plot_forest`:\npip install arviz",
     "output_type": "error",
     "traceback": [
      "\u001b[0;31m---------------------------------------------------------------------------\u001b[0m",
      "\u001b[0;31mImportError\u001b[0m                               Traceback (most recent call last)",
      "\u001b[0;32m<ipython-input-37-2d18b0195917>\u001b[0m in \u001b[0;36m<module>\u001b[0;34m\u001b[0m\n\u001b[0;32m----> 1\u001b[0;31m \u001b[0mpm\u001b[0m\u001b[0;34m.\u001b[0m\u001b[0mforestplot\u001b[0m\u001b[0;34m(\u001b[0m\u001b[0mtrace\u001b[0m\u001b[0;34m,\u001b[0m\u001b[0mylabels\u001b[0m\u001b[0;34m=\u001b[0m\u001b[0;34m[\u001b[0m\u001b[0;34m'intercept'\u001b[0m\u001b[0;34m]\u001b[0m \u001b[0;34m+\u001b[0m \u001b[0mpredictors\u001b[0m \u001b[0;34m+\u001b[0m \u001b[0;34m[\u001b[0m\u001b[0;34m'variance'\u001b[0m\u001b[0;34m,\u001b[0m\u001b[0;34m'sd'\u001b[0m\u001b[0;34m]\u001b[0m\u001b[0;34m)\u001b[0m\u001b[0;34m;\u001b[0m\u001b[0;34m\u001b[0m\u001b[0;34m\u001b[0m\u001b[0m\n\u001b[0m",
      "\u001b[0;32m/opt/anaconda3/lib/python3.7/site-packages/pymc3/plots/__init__.py\u001b[0m in \u001b[0;36mwrapped\u001b[0;34m(*args, **kwargs)\u001b[0m\n\u001b[1;32m     40\u001b[0m                 \u001b[0mwarnings\u001b[0m\u001b[0;34m.\u001b[0m\u001b[0mwarn\u001b[0m\u001b[0;34m(\u001b[0m\u001b[0;34m'Keyword argument `{old}` renamed to `{new}`, and will be removed in pymc3 3.8'\u001b[0m\u001b[0;34m.\u001b[0m\u001b[0mformat\u001b[0m\u001b[0;34m(\u001b[0m\u001b[0mold\u001b[0m\u001b[0;34m=\u001b[0m\u001b[0mold\u001b[0m\u001b[0;34m,\u001b[0m \u001b[0mnew\u001b[0m\u001b[0;34m=\u001b[0m\u001b[0mnew\u001b[0m\u001b[0;34m)\u001b[0m\u001b[0;34m)\u001b[0m\u001b[0;34m\u001b[0m\u001b[0;34m\u001b[0m\u001b[0m\n\u001b[1;32m     41\u001b[0m                 \u001b[0mkwargs\u001b[0m\u001b[0;34m[\u001b[0m\u001b[0mnew\u001b[0m\u001b[0;34m]\u001b[0m \u001b[0;34m=\u001b[0m \u001b[0mkwargs\u001b[0m\u001b[0;34m.\u001b[0m\u001b[0mpop\u001b[0m\u001b[0;34m(\u001b[0m\u001b[0mold\u001b[0m\u001b[0;34m)\u001b[0m\u001b[0;34m\u001b[0m\u001b[0;34m\u001b[0m\u001b[0m\n\u001b[0;32m---> 42\u001b[0;31m             \u001b[0;32mreturn\u001b[0m \u001b[0mfunc\u001b[0m\u001b[0;34m(\u001b[0m\u001b[0;34m*\u001b[0m\u001b[0margs\u001b[0m\u001b[0;34m,\u001b[0m \u001b[0;34m**\u001b[0m\u001b[0mkwargs\u001b[0m\u001b[0;34m)\u001b[0m\u001b[0;34m\u001b[0m\u001b[0;34m\u001b[0m\u001b[0m\n\u001b[0m\u001b[1;32m     43\u001b[0m     \u001b[0;32mreturn\u001b[0m \u001b[0mwrapped\u001b[0m\u001b[0;34m\u001b[0m\u001b[0;34m\u001b[0m\u001b[0m\n\u001b[1;32m     44\u001b[0m \u001b[0;34m\u001b[0m\u001b[0m\n",
      "\u001b[0;32m/opt/anaconda3/lib/python3.7/site-packages/pymc3/plots/__init__.py\u001b[0m in \u001b[0;36m__call__\u001b[0;34m(self, *args, **kwargs)\u001b[0m\n\u001b[1;32m     20\u001b[0m         \u001b[0;32mdef\u001b[0m \u001b[0m__call__\u001b[0m\u001b[0;34m(\u001b[0m\u001b[0mself\u001b[0m\u001b[0;34m,\u001b[0m \u001b[0;34m*\u001b[0m\u001b[0margs\u001b[0m\u001b[0;34m,\u001b[0m \u001b[0;34m**\u001b[0m\u001b[0mkwargs\u001b[0m\u001b[0;34m)\u001b[0m\u001b[0;34m:\u001b[0m\u001b[0;34m\u001b[0m\u001b[0;34m\u001b[0m\u001b[0m\n\u001b[1;32m     21\u001b[0m             raise ImportError(\n\u001b[0;32m---> 22\u001b[0;31m                 \u001b[0;34m\"ArviZ is not installed. In order to use `{0.attr}`:\\npip install arviz\"\u001b[0m\u001b[0;34m.\u001b[0m\u001b[0mformat\u001b[0m\u001b[0;34m(\u001b[0m\u001b[0mself\u001b[0m\u001b[0;34m)\u001b[0m\u001b[0;34m\u001b[0m\u001b[0;34m\u001b[0m\u001b[0m\n\u001b[0m\u001b[1;32m     23\u001b[0m             )\n\u001b[1;32m     24\u001b[0m \u001b[0;34m\u001b[0m\u001b[0m\n",
      "\u001b[0;31mImportError\u001b[0m: ArviZ is not installed. In order to use `plot_forest`:\npip install arviz"
     "name": "stderr",
     "output_type": "stream",
     "text": [
      "/usr/local/lib/python3.7/site-packages/pymc3/plots/forestplot.py:318: MatplotlibDeprecationWarning: \n",
      "The tick1On function was deprecated in Matplotlib 3.1 and will be removed in 3.3. Use Tick.tick1line.set_visible instead.\n",
      "  ticks.tick1On = False\n",
      "/usr/local/lib/python3.7/site-packages/pymc3/plots/forestplot.py:319: MatplotlibDeprecationWarning: \n",
      "The tick2On function was deprecated in Matplotlib 3.1 and will be removed in 3.3. Use Tick.tick2line.set_visible instead.\n",
      "  ticks.tick2On = False\n"
     ]
    },
    {
     "data": {
      "image/png": "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\n",
      "text/plain": [
       "<Figure size 432x288 with 2 Axes>"
      ]
     },
     "metadata": {
      "needs_background": "light"
     },
     "output_type": "display_data"
    }
   ],
   "source": [
    "pm.forestplot(trace,ylabels=['intercept'] + predictors + ['variance','sd']);"
   ]
  },
  {
   "cell_type": "code",
<<<<<<< HEAD
   "execution_count": 38,
   "metadata": {},
   "outputs": [
    {
     "name": "stderr",
     "output_type": "stream",
     "text": [
      "/opt/anaconda3/lib/python3.7/site-packages/pymc3/plots/__init__.py:40: UserWarning: Keyword argument `varnames` renamed to `var_names`, and will be removed in pymc3 3.8\n",
      "  warnings.warn('Keyword argument `{old}` renamed to `{new}`, and will be removed in pymc3 3.8'.format(old=old, new=new))\n"
     ]
    },
    {
     "ename": "ImportError",
     "evalue": "ArviZ is not installed. In order to use `plot_forest`:\npip install arviz",
     "output_type": "error",
     "traceback": [
      "\u001b[0;31m---------------------------------------------------------------------------\u001b[0m",
      "\u001b[0;31mImportError\u001b[0m                               Traceback (most recent call last)",
      "\u001b[0;32m<ipython-input-38-c3562b2433b8>\u001b[0m in \u001b[0;36m<module>\u001b[0;34m\u001b[0m\n\u001b[0;32m----> 1\u001b[0;31m \u001b[0mpm\u001b[0m\u001b[0;34m.\u001b[0m\u001b[0mforestplot\u001b[0m\u001b[0;34m(\u001b[0m\u001b[0mtrace\u001b[0m\u001b[0;34m,\u001b[0m\u001b[0mvarnames\u001b[0m\u001b[0;34m=\u001b[0m\u001b[0;34m[\u001b[0m\u001b[0;34m'beta'\u001b[0m\u001b[0;34m,\u001b[0m\u001b[0;34m'intercept'\u001b[0m\u001b[0;34m,\u001b[0m\u001b[0;34m'sd'\u001b[0m\u001b[0;34m]\u001b[0m\u001b[0;34m)\u001b[0m\u001b[0;34m;\u001b[0m\u001b[0;34m\u001b[0m\u001b[0;34m\u001b[0m\u001b[0m\n\u001b[0m",
      "\u001b[0;32m/opt/anaconda3/lib/python3.7/site-packages/pymc3/plots/__init__.py\u001b[0m in \u001b[0;36mwrapped\u001b[0;34m(*args, **kwargs)\u001b[0m\n\u001b[1;32m     40\u001b[0m                 \u001b[0mwarnings\u001b[0m\u001b[0;34m.\u001b[0m\u001b[0mwarn\u001b[0m\u001b[0;34m(\u001b[0m\u001b[0;34m'Keyword argument `{old}` renamed to `{new}`, and will be removed in pymc3 3.8'\u001b[0m\u001b[0;34m.\u001b[0m\u001b[0mformat\u001b[0m\u001b[0;34m(\u001b[0m\u001b[0mold\u001b[0m\u001b[0;34m=\u001b[0m\u001b[0mold\u001b[0m\u001b[0;34m,\u001b[0m \u001b[0mnew\u001b[0m\u001b[0;34m=\u001b[0m\u001b[0mnew\u001b[0m\u001b[0;34m)\u001b[0m\u001b[0;34m)\u001b[0m\u001b[0;34m\u001b[0m\u001b[0;34m\u001b[0m\u001b[0m\n\u001b[1;32m     41\u001b[0m                 \u001b[0mkwargs\u001b[0m\u001b[0;34m[\u001b[0m\u001b[0mnew\u001b[0m\u001b[0;34m]\u001b[0m \u001b[0;34m=\u001b[0m \u001b[0mkwargs\u001b[0m\u001b[0;34m.\u001b[0m\u001b[0mpop\u001b[0m\u001b[0;34m(\u001b[0m\u001b[0mold\u001b[0m\u001b[0;34m)\u001b[0m\u001b[0;34m\u001b[0m\u001b[0;34m\u001b[0m\u001b[0m\n\u001b[0;32m---> 42\u001b[0;31m             \u001b[0;32mreturn\u001b[0m \u001b[0mfunc\u001b[0m\u001b[0;34m(\u001b[0m\u001b[0;34m*\u001b[0m\u001b[0margs\u001b[0m\u001b[0;34m,\u001b[0m \u001b[0;34m**\u001b[0m\u001b[0mkwargs\u001b[0m\u001b[0;34m)\u001b[0m\u001b[0;34m\u001b[0m\u001b[0;34m\u001b[0m\u001b[0m\n\u001b[0m\u001b[1;32m     43\u001b[0m     \u001b[0;32mreturn\u001b[0m \u001b[0mwrapped\u001b[0m\u001b[0;34m\u001b[0m\u001b[0;34m\u001b[0m\u001b[0m\n\u001b[1;32m     44\u001b[0m \u001b[0;34m\u001b[0m\u001b[0m\n",
      "\u001b[0;32m/opt/anaconda3/lib/python3.7/site-packages/pymc3/plots/__init__.py\u001b[0m in \u001b[0;36m__call__\u001b[0;34m(self, *args, **kwargs)\u001b[0m\n\u001b[1;32m     20\u001b[0m         \u001b[0;32mdef\u001b[0m \u001b[0m__call__\u001b[0m\u001b[0;34m(\u001b[0m\u001b[0mself\u001b[0m\u001b[0;34m,\u001b[0m \u001b[0;34m*\u001b[0m\u001b[0margs\u001b[0m\u001b[0;34m,\u001b[0m \u001b[0;34m**\u001b[0m\u001b[0mkwargs\u001b[0m\u001b[0;34m)\u001b[0m\u001b[0;34m:\u001b[0m\u001b[0;34m\u001b[0m\u001b[0;34m\u001b[0m\u001b[0m\n\u001b[1;32m     21\u001b[0m             raise ImportError(\n\u001b[0;32m---> 22\u001b[0;31m                 \u001b[0;34m\"ArviZ is not installed. In order to use `{0.attr}`:\\npip install arviz\"\u001b[0m\u001b[0;34m.\u001b[0m\u001b[0mformat\u001b[0m\u001b[0;34m(\u001b[0m\u001b[0mself\u001b[0m\u001b[0;34m)\u001b[0m\u001b[0;34m\u001b[0m\u001b[0;34m\u001b[0m\u001b[0m\n\u001b[0m\u001b[1;32m     23\u001b[0m             )\n\u001b[1;32m     24\u001b[0m \u001b[0;34m\u001b[0m\u001b[0m\n",
      "\u001b[0;31mImportError\u001b[0m: ArviZ is not installed. In order to use `plot_forest`:\npip install arviz"
     ]
    }
   ],
   "source": [
    "pm.forestplot(trace,varnames=['beta','intercept','sd']);"
   "execution_count": 90,
   "metadata": {},
   "outputs": [
    {
     "data": {
      "text/plain": [
       "r2_r(r2_median=0.5, r2_mean=0.5, r2_std=0.0)"
      ]
     },
     "execution_count": 90,
     "metadata": {},
     "output_type": "execute_result"
    }
   ],
   "source": [
    "pm.stats.r2_score(df1['meter_reading'].values,trace['yhat1'])"
   ]
  },
  {
   "cell_type": "code",
   "execution_count": 80,
   "metadata": {},
   "outputs": [
    {
     "name": "stderr",
     "output_type": "stream",
     "text": [
      "/usr/local/lib/python3.7/site-packages/ipykernel_launcher.py:1: FutureWarning: arrays to stack must be passed as a \"sequence\" type such as list or tuple. Support for non-sequence iterables such as generators is deprecated as of NumPy 1.16 and will raise an error in the future.\n",
      "  \"\"\"Entry point for launching an IPython kernel.\n"
     ]
    },
    {
     "data": {
      "text/plain": [
       "WAIC_r(WAIC=-871169.6220708047, WAIC_se=4.988400940046187e-13, p_WAIC=0.45903452050970345, var_warn=0)"
      ]
     },
     "execution_count": 80,
     "metadata": {},
     "output_type": "execute_result"
    }
   ],
   "source": [
    "pm.stats.waic(trace, model = multiple_model)"
   ]
  },
  {
   "cell_type": "code",
   "execution_count": 92,
   "metadata": {},
   "outputs": [
    {
     "ename": "KeyboardInterrupt",
     "evalue": "",
     "traceback": [
      "\u001b[0;31m---------------------------------------------------------------------------\u001b[0m",
      "\u001b[0;31mKeyboardInterrupt\u001b[0m                         Traceback (most recent call last)",
      "\u001b[0;32m<ipython-input-92-4b673fced3da>\u001b[0m in \u001b[0;36m<module>\u001b[0;34m\u001b[0m\n\u001b[0;32m----> 1\u001b[0;31m \u001b[0mpm\u001b[0m\u001b[0;34m.\u001b[0m\u001b[0mtraceplot\u001b[0m\u001b[0;34m(\u001b[0m\u001b[0mtrace\u001b[0m\u001b[0;34m)\u001b[0m\u001b[0;34m\u001b[0m\u001b[0;34m\u001b[0m\u001b[0m\n\u001b[0m",
      "\u001b[0;32m/usr/local/lib/python3.7/site-packages/pymc3/plots/traceplot.py\u001b[0m in \u001b[0;36mtraceplot\u001b[0;34m(trace, varnames, transform, figsize, lines, combined, plot_transformed, grid, alpha, priors, prior_alpha, prior_style, bw, ax, live_plot, skip_first, refresh_every, roll_over)\u001b[0m\n\u001b[1;32m    112\u001b[0m                 \u001b[0mcolors\u001b[0m \u001b[0;34m=\u001b[0m \u001b[0;34m[\u001b[0m\u001b[0mh\u001b[0m\u001b[0;34m[\u001b[0m\u001b[0;34m-\u001b[0m\u001b[0;36m1\u001b[0m\u001b[0;34m]\u001b[0m\u001b[0;34m[\u001b[0m\u001b[0;36m0\u001b[0m\u001b[0;34m]\u001b[0m\u001b[0;34m.\u001b[0m\u001b[0mget_facecolor\u001b[0m\u001b[0;34m(\u001b[0m\u001b[0;34m)\u001b[0m \u001b[0;32mfor\u001b[0m \u001b[0mh\u001b[0m \u001b[0;32min\u001b[0m \u001b[0mhist_objs\u001b[0m\u001b[0;34m]\u001b[0m\u001b[0;34m\u001b[0m\u001b[0;34m\u001b[0m\u001b[0m\n\u001b[1;32m    113\u001b[0m             \u001b[0;32melse\u001b[0m\u001b[0;34m:\u001b[0m\u001b[0;34m\u001b[0m\u001b[0;34m\u001b[0m\u001b[0m\n\u001b[0;32m--> 114\u001b[0;31m                 \u001b[0martists\u001b[0m \u001b[0;34m=\u001b[0m \u001b[0mkdeplot_op\u001b[0m\u001b[0;34m(\u001b[0m\u001b[0max\u001b[0m\u001b[0;34m[\u001b[0m\u001b[0mi\u001b[0m\u001b[0;34m,\u001b[0m \u001b[0;36m0\u001b[0m\u001b[0;34m]\u001b[0m\u001b[0;34m,\u001b[0m \u001b[0md\u001b[0m\u001b[0;34m,\u001b[0m \u001b[0mbw\u001b[0m\u001b[0;34m,\u001b[0m \u001b[0mprior\u001b[0m\u001b[0;34m,\u001b[0m \u001b[0mprior_alpha\u001b[0m\u001b[0;34m,\u001b[0m \u001b[0mprior_style\u001b[0m\u001b[0;34m)\u001b[0m\u001b[0;34m[\u001b[0m\u001b[0;36m0\u001b[0m\u001b[0;34m]\u001b[0m\u001b[0;34m\u001b[0m\u001b[0;34m\u001b[0m\u001b[0m\n\u001b[0m\u001b[1;32m    115\u001b[0m                 \u001b[0mcolors\u001b[0m \u001b[0;34m=\u001b[0m \u001b[0;34m[\u001b[0m\u001b[0ma\u001b[0m\u001b[0;34m[\u001b[0m\u001b[0;36m0\u001b[0m\u001b[0;34m]\u001b[0m\u001b[0;34m.\u001b[0m\u001b[0mget_color\u001b[0m\u001b[0;34m(\u001b[0m\u001b[0;34m)\u001b[0m \u001b[0;32mfor\u001b[0m \u001b[0ma\u001b[0m \u001b[0;32min\u001b[0m \u001b[0martists\u001b[0m\u001b[0;34m]\u001b[0m\u001b[0;34m\u001b[0m\u001b[0;34m\u001b[0m\u001b[0m\n\u001b[1;32m    116\u001b[0m             \u001b[0max\u001b[0m\u001b[0;34m[\u001b[0m\u001b[0mi\u001b[0m\u001b[0;34m,\u001b[0m \u001b[0;36m0\u001b[0m\u001b[0;34m]\u001b[0m\u001b[0;34m.\u001b[0m\u001b[0mset_title\u001b[0m\u001b[0;34m(\u001b[0m\u001b[0mstr\u001b[0m\u001b[0;34m(\u001b[0m\u001b[0mv\u001b[0m\u001b[0;34m)\u001b[0m\u001b[0;34m)\u001b[0m\u001b[0;34m\u001b[0m\u001b[0;34m\u001b[0m\u001b[0m\n",
      "\u001b[0;32m/usr/local/lib/python3.7/site-packages/pymc3/plots/artists.py\u001b[0m in \u001b[0;36mkdeplot_op\u001b[0;34m(ax, data, bw, prior, prior_alpha, prior_style)\u001b[0m\n\u001b[1;32m     38\u001b[0m                                    alpha=prior_alpha, ls=prior_style))\n\u001b[1;32m     39\u001b[0m \u001b[0;34m\u001b[0m\u001b[0m\n\u001b[0;32m---> 40\u001b[0;31m             \u001b[0mls\u001b[0m\u001b[0;34m.\u001b[0m\u001b[0mappend\u001b[0m\u001b[0;34m(\u001b[0m\u001b[0max\u001b[0m\u001b[0;34m.\u001b[0m\u001b[0mplot\u001b[0m\u001b[0;34m(\u001b[0m\u001b[0mx\u001b[0m\u001b[0;34m,\u001b[0m \u001b[0mdensity\u001b[0m\u001b[0;34m)\u001b[0m\u001b[0;34m)\u001b[0m\u001b[0;34m\u001b[0m\u001b[0;34m\u001b[0m\u001b[0m\n\u001b[0m\u001b[1;32m     41\u001b[0m         \u001b[0;32mexcept\u001b[0m \u001b[0mValueError\u001b[0m\u001b[0;34m:\u001b[0m\u001b[0;34m\u001b[0m\u001b[0;34m\u001b[0m\u001b[0m\n\u001b[1;32m     42\u001b[0m             \u001b[0merrored\u001b[0m\u001b[0;34m.\u001b[0m\u001b[0mappend\u001b[0m\u001b[0;34m(\u001b[0m\u001b[0mstr\u001b[0m\u001b[0;34m(\u001b[0m\u001b[0mi\u001b[0m\u001b[0;34m)\u001b[0m\u001b[0;34m)\u001b[0m\u001b[0;34m\u001b[0m\u001b[0;34m\u001b[0m\u001b[0m\n",
      "\u001b[0;32m/usr/local/lib/python3.7/site-packages/matplotlib/axes/_axes.py\u001b[0m in \u001b[0;36mplot\u001b[0;34m(self, scalex, scaley, data, *args, **kwargs)\u001b[0m\n\u001b[1;32m   1667\u001b[0m         \u001b[0;32mfor\u001b[0m \u001b[0mline\u001b[0m \u001b[0;32min\u001b[0m \u001b[0mlines\u001b[0m\u001b[0;34m:\u001b[0m\u001b[0;34m\u001b[0m\u001b[0;34m\u001b[0m\u001b[0m\n\u001b[1;32m   1668\u001b[0m             \u001b[0mself\u001b[0m\u001b[0;34m.\u001b[0m\u001b[0madd_line\u001b[0m\u001b[0;34m(\u001b[0m\u001b[0mline\u001b[0m\u001b[0;34m)\u001b[0m\u001b[0;34m\u001b[0m\u001b[0;34m\u001b[0m\u001b[0m\n\u001b[0;32m-> 1669\u001b[0;31m         \u001b[0mself\u001b[0m\u001b[0;34m.\u001b[0m\u001b[0mautoscale_view\u001b[0m\u001b[0;34m(\u001b[0m\u001b[0mscalex\u001b[0m\u001b[0;34m=\u001b[0m\u001b[0mscalex\u001b[0m\u001b[0;34m,\u001b[0m \u001b[0mscaley\u001b[0m\u001b[0;34m=\u001b[0m\u001b[0mscaley\u001b[0m\u001b[0;34m)\u001b[0m\u001b[0;34m\u001b[0m\u001b[0;34m\u001b[0m\u001b[0m\n\u001b[0m\u001b[1;32m   1670\u001b[0m         \u001b[0;32mreturn\u001b[0m \u001b[0mlines\u001b[0m\u001b[0;34m\u001b[0m\u001b[0;34m\u001b[0m\u001b[0m\n\u001b[1;32m   1671\u001b[0m \u001b[0;34m\u001b[0m\u001b[0m\n",
      "\u001b[0;32m/usr/local/lib/python3.7/site-packages/matplotlib/axes/_base.py\u001b[0m in \u001b[0;36mautoscale_view\u001b[0;34m(self, tight, scalex, scaley)\u001b[0m\n\u001b[1;32m   2413\u001b[0m                 \u001b[0;34m(\u001b[0m\u001b[0mself\u001b[0m\u001b[0;34m.\u001b[0m\u001b[0m_xmargin\u001b[0m \u001b[0;32mand\u001b[0m \u001b[0mscalex\u001b[0m \u001b[0;32mand\u001b[0m \u001b[0mself\u001b[0m\u001b[0;34m.\u001b[0m\u001b[0m_autoscaleXon\u001b[0m\u001b[0;34m)\u001b[0m \u001b[0;32mor\u001b[0m\u001b[0;34m\u001b[0m\u001b[0;34m\u001b[0m\u001b[0m\n\u001b[1;32m   2414\u001b[0m                 (self._ymargin and scaley and self._autoscaleYon)):\n\u001b[0;32m-> 2415\u001b[0;31m             \u001b[0mstickies\u001b[0m \u001b[0;34m=\u001b[0m \u001b[0;34m[\u001b[0m\u001b[0martist\u001b[0m\u001b[0;34m.\u001b[0m\u001b[0msticky_edges\u001b[0m \u001b[0;32mfor\u001b[0m \u001b[0martist\u001b[0m \u001b[0;32min\u001b[0m \u001b[0mself\u001b[0m\u001b[0;34m.\u001b[0m\u001b[0mget_children\u001b[0m\u001b[0;34m(\u001b[0m\u001b[0;34m)\u001b[0m\u001b[0;34m]\u001b[0m\u001b[0;34m\u001b[0m\u001b[0;34m\u001b[0m\u001b[0m\n\u001b[0m\u001b[1;32m   2416\u001b[0m             \u001b[0mx_stickies\u001b[0m \u001b[0;34m=\u001b[0m \u001b[0mnp\u001b[0m\u001b[0;34m.\u001b[0m\u001b[0marray\u001b[0m\u001b[0;34m(\u001b[0m\u001b[0;34m[\u001b[0m\u001b[0mx\u001b[0m \u001b[0;32mfor\u001b[0m \u001b[0msticky\u001b[0m \u001b[0;32min\u001b[0m \u001b[0mstickies\u001b[0m \u001b[0;32mfor\u001b[0m \u001b[0mx\u001b[0m \u001b[0;32min\u001b[0m \u001b[0msticky\u001b[0m\u001b[0;34m.\u001b[0m\u001b[0mx\u001b[0m\u001b[0;34m]\u001b[0m\u001b[0;34m)\u001b[0m\u001b[0;34m\u001b[0m\u001b[0;34m\u001b[0m\u001b[0m\n\u001b[1;32m   2417\u001b[0m             \u001b[0my_stickies\u001b[0m \u001b[0;34m=\u001b[0m \u001b[0mnp\u001b[0m\u001b[0;34m.\u001b[0m\u001b[0marray\u001b[0m\u001b[0;34m(\u001b[0m\u001b[0;34m[\u001b[0m\u001b[0my\u001b[0m \u001b[0;32mfor\u001b[0m \u001b[0msticky\u001b[0m \u001b[0;32min\u001b[0m \u001b[0mstickies\u001b[0m \u001b[0;32mfor\u001b[0m \u001b[0my\u001b[0m \u001b[0;32min\u001b[0m \u001b[0msticky\u001b[0m\u001b[0;34m.\u001b[0m\u001b[0my\u001b[0m\u001b[0;34m]\u001b[0m\u001b[0;34m)\u001b[0m\u001b[0;34m\u001b[0m\u001b[0;34m\u001b[0m\u001b[0m\n",
      "\u001b[0;32m/usr/local/lib/python3.7/site-packages/matplotlib/axes/_base.py\u001b[0m in \u001b[0;36m<listcomp>\u001b[0;34m(.0)\u001b[0m\n\u001b[1;32m   2413\u001b[0m                 \u001b[0;34m(\u001b[0m\u001b[0mself\u001b[0m\u001b[0;34m.\u001b[0m\u001b[0m_xmargin\u001b[0m \u001b[0;32mand\u001b[0m \u001b[0mscalex\u001b[0m \u001b[0;32mand\u001b[0m \u001b[0mself\u001b[0m\u001b[0;34m.\u001b[0m\u001b[0m_autoscaleXon\u001b[0m\u001b[0;34m)\u001b[0m \u001b[0;32mor\u001b[0m\u001b[0;34m\u001b[0m\u001b[0;34m\u001b[0m\u001b[0m\n\u001b[1;32m   2414\u001b[0m                 (self._ymargin and scaley and self._autoscaleYon)):\n\u001b[0;32m-> 2415\u001b[0;31m             \u001b[0mstickies\u001b[0m \u001b[0;34m=\u001b[0m \u001b[0;34m[\u001b[0m\u001b[0martist\u001b[0m\u001b[0;34m.\u001b[0m\u001b[0msticky_edges\u001b[0m \u001b[0;32mfor\u001b[0m \u001b[0martist\u001b[0m \u001b[0;32min\u001b[0m \u001b[0mself\u001b[0m\u001b[0;34m.\u001b[0m\u001b[0mget_children\u001b[0m\u001b[0;34m(\u001b[0m\u001b[0;34m)\u001b[0m\u001b[0;34m]\u001b[0m\u001b[0;34m\u001b[0m\u001b[0;34m\u001b[0m\u001b[0m\n\u001b[0m\u001b[1;32m   2416\u001b[0m             \u001b[0mx_stickies\u001b[0m \u001b[0;34m=\u001b[0m \u001b[0mnp\u001b[0m\u001b[0;34m.\u001b[0m\u001b[0marray\u001b[0m\u001b[0;34m(\u001b[0m\u001b[0;34m[\u001b[0m\u001b[0mx\u001b[0m \u001b[0;32mfor\u001b[0m \u001b[0msticky\u001b[0m \u001b[0;32min\u001b[0m \u001b[0mstickies\u001b[0m \u001b[0;32mfor\u001b[0m \u001b[0mx\u001b[0m \u001b[0;32min\u001b[0m \u001b[0msticky\u001b[0m\u001b[0;34m.\u001b[0m\u001b[0mx\u001b[0m\u001b[0;34m]\u001b[0m\u001b[0;34m)\u001b[0m\u001b[0;34m\u001b[0m\u001b[0;34m\u001b[0m\u001b[0m\n\u001b[1;32m   2417\u001b[0m             \u001b[0my_stickies\u001b[0m \u001b[0;34m=\u001b[0m \u001b[0mnp\u001b[0m\u001b[0;34m.\u001b[0m\u001b[0marray\u001b[0m\u001b[0;34m(\u001b[0m\u001b[0;34m[\u001b[0m\u001b[0my\u001b[0m \u001b[0;32mfor\u001b[0m \u001b[0msticky\u001b[0m \u001b[0;32min\u001b[0m \u001b[0mstickies\u001b[0m \u001b[0;32mfor\u001b[0m \u001b[0my\u001b[0m \u001b[0;32min\u001b[0m \u001b[0msticky\u001b[0m\u001b[0;34m.\u001b[0m\u001b[0my\u001b[0m\u001b[0;34m]\u001b[0m\u001b[0;34m)\u001b[0m\u001b[0;34m\u001b[0m\u001b[0;34m\u001b[0m\u001b[0m\n",
      "\u001b[0;32m/usr/local/lib/python3.7/site-packages/matplotlib/artist.py\u001b[0m in \u001b[0;36msticky_edges\u001b[0;34m(self)\u001b[0m\n\u001b[1;32m   1018\u001b[0m         \u001b[0mself\u001b[0m\u001b[0;34m.\u001b[0m\u001b[0mstale\u001b[0m \u001b[0;34m=\u001b[0m \u001b[0;32mTrue\u001b[0m\u001b[0;34m\u001b[0m\u001b[0;34m\u001b[0m\u001b[0m\n\u001b[1;32m   1019\u001b[0m \u001b[0;34m\u001b[0m\u001b[0m\n\u001b[0;32m-> 1020\u001b[0;31m     \u001b[0;34m@\u001b[0m\u001b[0mproperty\u001b[0m\u001b[0;34m\u001b[0m\u001b[0;34m\u001b[0m\u001b[0m\n\u001b[0m\u001b[1;32m   1021\u001b[0m     \u001b[0;32mdef\u001b[0m \u001b[0msticky_edges\u001b[0m\u001b[0;34m(\u001b[0m\u001b[0mself\u001b[0m\u001b[0;34m)\u001b[0m\u001b[0;34m:\u001b[0m\u001b[0;34m\u001b[0m\u001b[0;34m\u001b[0m\u001b[0m\n\u001b[1;32m   1022\u001b[0m         \"\"\"\n",
      "\u001b[0;31mKeyboardInterrupt\u001b[0m: "
     ],
     "output_type": "error"
    },
    {
     "name": "stdout",
     "output_type": "stream",
     "text": [
      "Error in callback <function install_repl_displayhook.<locals>.post_execute at 0x1189b0840> (for post_execute):\n"
     ]
    },
    {
     "ename": "KeyboardInterrupt",
     "evalue": "",
     "traceback": [
      "\u001b[0;31m---------------------------------------------------------------------------\u001b[0m",
      "\u001b[0;31mKeyboardInterrupt\u001b[0m                         Traceback (most recent call last)",
      "\u001b[0;32m/usr/local/lib/python3.7/site-packages/matplotlib/pyplot.py\u001b[0m in \u001b[0;36mpost_execute\u001b[0;34m()\u001b[0m\n\u001b[1;32m    107\u001b[0m             \u001b[0;32mdef\u001b[0m \u001b[0mpost_execute\u001b[0m\u001b[0;34m(\u001b[0m\u001b[0;34m)\u001b[0m\u001b[0;34m:\u001b[0m\u001b[0;34m\u001b[0m\u001b[0;34m\u001b[0m\u001b[0m\n\u001b[1;32m    108\u001b[0m                 \u001b[0;32mif\u001b[0m \u001b[0mmatplotlib\u001b[0m\u001b[0;34m.\u001b[0m\u001b[0mis_interactive\u001b[0m\u001b[0;34m(\u001b[0m\u001b[0;34m)\u001b[0m\u001b[0;34m:\u001b[0m\u001b[0;34m\u001b[0m\u001b[0;34m\u001b[0m\u001b[0m\n\u001b[0;32m--> 109\u001b[0;31m                     \u001b[0mdraw_all\u001b[0m\u001b[0;34m(\u001b[0m\u001b[0;34m)\u001b[0m\u001b[0;34m\u001b[0m\u001b[0;34m\u001b[0m\u001b[0m\n\u001b[0m\u001b[1;32m    110\u001b[0m \u001b[0;34m\u001b[0m\u001b[0m\n\u001b[1;32m    111\u001b[0m             \u001b[0;31m# IPython >= 2\u001b[0m\u001b[0;34m\u001b[0m\u001b[0;34m\u001b[0m\u001b[0;34m\u001b[0m\u001b[0m\n",
      "\u001b[0;32m/usr/local/lib/python3.7/site-packages/matplotlib/_pylab_helpers.py\u001b[0m in \u001b[0;36mdraw_all\u001b[0;34m(cls, force)\u001b[0m\n\u001b[1;32m    126\u001b[0m         \u001b[0;32mfor\u001b[0m \u001b[0mf_mgr\u001b[0m \u001b[0;32min\u001b[0m \u001b[0mcls\u001b[0m\u001b[0;34m.\u001b[0m\u001b[0mget_all_fig_managers\u001b[0m\u001b[0;34m(\u001b[0m\u001b[0;34m)\u001b[0m\u001b[0;34m:\u001b[0m\u001b[0;34m\u001b[0m\u001b[0;34m\u001b[0m\u001b[0m\n\u001b[1;32m    127\u001b[0m             \u001b[0;32mif\u001b[0m \u001b[0mforce\u001b[0m \u001b[0;32mor\u001b[0m \u001b[0mf_mgr\u001b[0m\u001b[0;34m.\u001b[0m\u001b[0mcanvas\u001b[0m\u001b[0;34m.\u001b[0m\u001b[0mfigure\u001b[0m\u001b[0;34m.\u001b[0m\u001b[0mstale\u001b[0m\u001b[0;34m:\u001b[0m\u001b[0;34m\u001b[0m\u001b[0;34m\u001b[0m\u001b[0m\n\u001b[0;32m--> 128\u001b[0;31m                 \u001b[0mf_mgr\u001b[0m\u001b[0;34m.\u001b[0m\u001b[0mcanvas\u001b[0m\u001b[0;34m.\u001b[0m\u001b[0mdraw_idle\u001b[0m\u001b[0;34m(\u001b[0m\u001b[0;34m)\u001b[0m\u001b[0;34m\u001b[0m\u001b[0;34m\u001b[0m\u001b[0m\n\u001b[0m\u001b[1;32m    129\u001b[0m \u001b[0;34m\u001b[0m\u001b[0m\n\u001b[1;32m    130\u001b[0m \u001b[0matexit\u001b[0m\u001b[0;34m.\u001b[0m\u001b[0mregister\u001b[0m\u001b[0;34m(\u001b[0m\u001b[0mGcf\u001b[0m\u001b[0;34m.\u001b[0m\u001b[0mdestroy_all\u001b[0m\u001b[0;34m)\u001b[0m\u001b[0;34m\u001b[0m\u001b[0;34m\u001b[0m\u001b[0m\n",
      "\u001b[0;32m/usr/local/lib/python3.7/site-packages/matplotlib/backend_bases.py\u001b[0m in \u001b[0;36mdraw_idle\u001b[0;34m(self, *args, **kwargs)\u001b[0m\n\u001b[1;32m   1905\u001b[0m         \u001b[0;32mif\u001b[0m \u001b[0;32mnot\u001b[0m \u001b[0mself\u001b[0m\u001b[0;34m.\u001b[0m\u001b[0m_is_idle_drawing\u001b[0m\u001b[0;34m:\u001b[0m\u001b[0;34m\u001b[0m\u001b[0;34m\u001b[0m\u001b[0m\n\u001b[1;32m   1906\u001b[0m             \u001b[0;32mwith\u001b[0m \u001b[0mself\u001b[0m\u001b[0;34m.\u001b[0m\u001b[0m_idle_draw_cntx\u001b[0m\u001b[0;34m(\u001b[0m\u001b[0;34m)\u001b[0m\u001b[0;34m:\u001b[0m\u001b[0;34m\u001b[0m\u001b[0;34m\u001b[0m\u001b[0m\n\u001b[0;32m-> 1907\u001b[0;31m                 \u001b[0mself\u001b[0m\u001b[0;34m.\u001b[0m\u001b[0mdraw\u001b[0m\u001b[0;34m(\u001b[0m\u001b[0;34m*\u001b[0m\u001b[0margs\u001b[0m\u001b[0;34m,\u001b[0m \u001b[0;34m**\u001b[0m\u001b[0mkwargs\u001b[0m\u001b[0;34m)\u001b[0m\u001b[0;34m\u001b[0m\u001b[0;34m\u001b[0m\u001b[0m\n\u001b[0m\u001b[1;32m   1908\u001b[0m \u001b[0;34m\u001b[0m\u001b[0m\n\u001b[1;32m   1909\u001b[0m     \u001b[0;32mdef\u001b[0m \u001b[0mdraw_cursor\u001b[0m\u001b[0;34m(\u001b[0m\u001b[0mself\u001b[0m\u001b[0;34m,\u001b[0m \u001b[0mevent\u001b[0m\u001b[0;34m)\u001b[0m\u001b[0;34m:\u001b[0m\u001b[0;34m\u001b[0m\u001b[0;34m\u001b[0m\u001b[0m\n",
      "\u001b[0;32m/usr/local/lib/python3.7/site-packages/matplotlib/backends/backend_agg.py\u001b[0m in \u001b[0;36mdraw\u001b[0;34m(self)\u001b[0m\n\u001b[1;32m    386\u001b[0m         \u001b[0mself\u001b[0m\u001b[0;34m.\u001b[0m\u001b[0mrenderer\u001b[0m \u001b[0;34m=\u001b[0m \u001b[0mself\u001b[0m\u001b[0;34m.\u001b[0m\u001b[0mget_renderer\u001b[0m\u001b[0;34m(\u001b[0m\u001b[0mcleared\u001b[0m\u001b[0;34m=\u001b[0m\u001b[0;32mTrue\u001b[0m\u001b[0;34m)\u001b[0m\u001b[0;34m\u001b[0m\u001b[0;34m\u001b[0m\u001b[0m\n\u001b[1;32m    387\u001b[0m         \u001b[0;32mwith\u001b[0m \u001b[0mRendererAgg\u001b[0m\u001b[0;34m.\u001b[0m\u001b[0mlock\u001b[0m\u001b[0;34m:\u001b[0m\u001b[0;34m\u001b[0m\u001b[0;34m\u001b[0m\u001b[0m\n\u001b[0;32m--> 388\u001b[0;31m             \u001b[0mself\u001b[0m\u001b[0;34m.\u001b[0m\u001b[0mfigure\u001b[0m\u001b[0;34m.\u001b[0m\u001b[0mdraw\u001b[0m\u001b[0;34m(\u001b[0m\u001b[0mself\u001b[0m\u001b[0;34m.\u001b[0m\u001b[0mrenderer\u001b[0m\u001b[0;34m)\u001b[0m\u001b[0;34m\u001b[0m\u001b[0;34m\u001b[0m\u001b[0m\n\u001b[0m\u001b[1;32m    389\u001b[0m             \u001b[0;31m# A GUI class may be need to update a window using this draw, so\u001b[0m\u001b[0;34m\u001b[0m\u001b[0;34m\u001b[0m\u001b[0;34m\u001b[0m\u001b[0m\n\u001b[1;32m    390\u001b[0m             \u001b[0;31m# don't forget to call the superclass.\u001b[0m\u001b[0;34m\u001b[0m\u001b[0;34m\u001b[0m\u001b[0;34m\u001b[0m\u001b[0m\n",
      "\u001b[0;32m/usr/local/lib/python3.7/site-packages/matplotlib/artist.py\u001b[0m in \u001b[0;36mdraw_wrapper\u001b[0;34m(artist, renderer, *args, **kwargs)\u001b[0m\n\u001b[1;32m     36\u001b[0m                 \u001b[0mrenderer\u001b[0m\u001b[0;34m.\u001b[0m\u001b[0mstart_filter\u001b[0m\u001b[0;34m(\u001b[0m\u001b[0;34m)\u001b[0m\u001b[0;34m\u001b[0m\u001b[0;34m\u001b[0m\u001b[0m\n\u001b[1;32m     37\u001b[0m \u001b[0;34m\u001b[0m\u001b[0m\n\u001b[0;32m---> 38\u001b[0;31m             \u001b[0;32mreturn\u001b[0m \u001b[0mdraw\u001b[0m\u001b[0;34m(\u001b[0m\u001b[0martist\u001b[0m\u001b[0;34m,\u001b[0m \u001b[0mrenderer\u001b[0m\u001b[0;34m,\u001b[0m \u001b[0;34m*\u001b[0m\u001b[0margs\u001b[0m\u001b[0;34m,\u001b[0m \u001b[0;34m**\u001b[0m\u001b[0mkwargs\u001b[0m\u001b[0;34m)\u001b[0m\u001b[0;34m\u001b[0m\u001b[0;34m\u001b[0m\u001b[0m\n\u001b[0m\u001b[1;32m     39\u001b[0m         \u001b[0;32mfinally\u001b[0m\u001b[0;34m:\u001b[0m\u001b[0;34m\u001b[0m\u001b[0;34m\u001b[0m\u001b[0m\n\u001b[1;32m     40\u001b[0m             \u001b[0;32mif\u001b[0m \u001b[0martist\u001b[0m\u001b[0;34m.\u001b[0m\u001b[0mget_agg_filter\u001b[0m\u001b[0;34m(\u001b[0m\u001b[0;34m)\u001b[0m \u001b[0;32mis\u001b[0m \u001b[0;32mnot\u001b[0m \u001b[0;32mNone\u001b[0m\u001b[0;34m:\u001b[0m\u001b[0;34m\u001b[0m\u001b[0;34m\u001b[0m\u001b[0m\n",
      "\u001b[0;32m/usr/local/lib/python3.7/site-packages/matplotlib/figure.py\u001b[0m in \u001b[0;36mdraw\u001b[0;34m(self, renderer)\u001b[0m\n\u001b[1;32m   1707\u001b[0m             \u001b[0mself\u001b[0m\u001b[0;34m.\u001b[0m\u001b[0mpatch\u001b[0m\u001b[0;34m.\u001b[0m\u001b[0mdraw\u001b[0m\u001b[0;34m(\u001b[0m\u001b[0mrenderer\u001b[0m\u001b[0;34m)\u001b[0m\u001b[0;34m\u001b[0m\u001b[0;34m\u001b[0m\u001b[0m\n\u001b[1;32m   1708\u001b[0m             mimage._draw_list_compositing_images(\n\u001b[0;32m-> 1709\u001b[0;31m                 renderer, self, artists, self.suppressComposite)\n\u001b[0m\u001b[1;32m   1710\u001b[0m \u001b[0;34m\u001b[0m\u001b[0m\n\u001b[1;32m   1711\u001b[0m             \u001b[0mrenderer\u001b[0m\u001b[0;34m.\u001b[0m\u001b[0mclose_group\u001b[0m\u001b[0;34m(\u001b[0m\u001b[0;34m'figure'\u001b[0m\u001b[0;34m)\u001b[0m\u001b[0;34m\u001b[0m\u001b[0;34m\u001b[0m\u001b[0m\n",
      "\u001b[0;32m/usr/local/lib/python3.7/site-packages/matplotlib/image.py\u001b[0m in \u001b[0;36m_draw_list_compositing_images\u001b[0;34m(renderer, parent, artists, suppress_composite)\u001b[0m\n\u001b[1;32m    133\u001b[0m     \u001b[0;32mif\u001b[0m \u001b[0mnot_composite\u001b[0m \u001b[0;32mor\u001b[0m \u001b[0;32mnot\u001b[0m \u001b[0mhas_images\u001b[0m\u001b[0;34m:\u001b[0m\u001b[0;34m\u001b[0m\u001b[0;34m\u001b[0m\u001b[0m\n\u001b[1;32m    134\u001b[0m         \u001b[0;32mfor\u001b[0m \u001b[0ma\u001b[0m \u001b[0;32min\u001b[0m \u001b[0martists\u001b[0m\u001b[0;34m:\u001b[0m\u001b[0;34m\u001b[0m\u001b[0;34m\u001b[0m\u001b[0m\n\u001b[0;32m--> 135\u001b[0;31m             \u001b[0ma\u001b[0m\u001b[0;34m.\u001b[0m\u001b[0mdraw\u001b[0m\u001b[0;34m(\u001b[0m\u001b[0mrenderer\u001b[0m\u001b[0;34m)\u001b[0m\u001b[0;34m\u001b[0m\u001b[0;34m\u001b[0m\u001b[0m\n\u001b[0m\u001b[1;32m    136\u001b[0m     \u001b[0;32melse\u001b[0m\u001b[0;34m:\u001b[0m\u001b[0;34m\u001b[0m\u001b[0;34m\u001b[0m\u001b[0m\n\u001b[1;32m    137\u001b[0m         \u001b[0;31m# Composite any adjacent images together\u001b[0m\u001b[0;34m\u001b[0m\u001b[0;34m\u001b[0m\u001b[0;34m\u001b[0m\u001b[0m\n",
      "\u001b[0;32m/usr/local/lib/python3.7/site-packages/matplotlib/artist.py\u001b[0m in \u001b[0;36mdraw_wrapper\u001b[0;34m(artist, renderer, *args, **kwargs)\u001b[0m\n\u001b[1;32m     36\u001b[0m                 \u001b[0mrenderer\u001b[0m\u001b[0;34m.\u001b[0m\u001b[0mstart_filter\u001b[0m\u001b[0;34m(\u001b[0m\u001b[0;34m)\u001b[0m\u001b[0;34m\u001b[0m\u001b[0;34m\u001b[0m\u001b[0m\n\u001b[1;32m     37\u001b[0m \u001b[0;34m\u001b[0m\u001b[0m\n\u001b[0;32m---> 38\u001b[0;31m             \u001b[0;32mreturn\u001b[0m \u001b[0mdraw\u001b[0m\u001b[0;34m(\u001b[0m\u001b[0martist\u001b[0m\u001b[0;34m,\u001b[0m \u001b[0mrenderer\u001b[0m\u001b[0;34m,\u001b[0m \u001b[0;34m*\u001b[0m\u001b[0margs\u001b[0m\u001b[0;34m,\u001b[0m \u001b[0;34m**\u001b[0m\u001b[0mkwargs\u001b[0m\u001b[0;34m)\u001b[0m\u001b[0;34m\u001b[0m\u001b[0;34m\u001b[0m\u001b[0m\n\u001b[0m\u001b[1;32m     39\u001b[0m         \u001b[0;32mfinally\u001b[0m\u001b[0;34m:\u001b[0m\u001b[0;34m\u001b[0m\u001b[0;34m\u001b[0m\u001b[0m\n\u001b[1;32m     40\u001b[0m             \u001b[0;32mif\u001b[0m \u001b[0martist\u001b[0m\u001b[0;34m.\u001b[0m\u001b[0mget_agg_filter\u001b[0m\u001b[0;34m(\u001b[0m\u001b[0;34m)\u001b[0m \u001b[0;32mis\u001b[0m \u001b[0;32mnot\u001b[0m \u001b[0;32mNone\u001b[0m\u001b[0;34m:\u001b[0m\u001b[0;34m\u001b[0m\u001b[0;34m\u001b[0m\u001b[0m\n",
      "\u001b[0;32m/usr/local/lib/python3.7/site-packages/matplotlib/axes/_base.py\u001b[0m in \u001b[0;36mdraw\u001b[0;34m(self, renderer, inframe)\u001b[0m\n\u001b[1;32m   2645\u001b[0m             \u001b[0mrenderer\u001b[0m\u001b[0;34m.\u001b[0m\u001b[0mstop_rasterizing\u001b[0m\u001b[0;34m(\u001b[0m\u001b[0;34m)\u001b[0m\u001b[0;34m\u001b[0m\u001b[0;34m\u001b[0m\u001b[0m\n\u001b[1;32m   2646\u001b[0m \u001b[0;34m\u001b[0m\u001b[0m\n\u001b[0;32m-> 2647\u001b[0;31m         \u001b[0mmimage\u001b[0m\u001b[0;34m.\u001b[0m\u001b[0m_draw_list_compositing_images\u001b[0m\u001b[0;34m(\u001b[0m\u001b[0mrenderer\u001b[0m\u001b[0;34m,\u001b[0m \u001b[0mself\u001b[0m\u001b[0;34m,\u001b[0m \u001b[0martists\u001b[0m\u001b[0;34m)\u001b[0m\u001b[0;34m\u001b[0m\u001b[0;34m\u001b[0m\u001b[0m\n\u001b[0m\u001b[1;32m   2648\u001b[0m \u001b[0;34m\u001b[0m\u001b[0m\n\u001b[1;32m   2649\u001b[0m         \u001b[0mrenderer\u001b[0m\u001b[0;34m.\u001b[0m\u001b[0mclose_group\u001b[0m\u001b[0;34m(\u001b[0m\u001b[0;34m'axes'\u001b[0m\u001b[0;34m)\u001b[0m\u001b[0;34m\u001b[0m\u001b[0;34m\u001b[0m\u001b[0m\n",
      "\u001b[0;32m/usr/local/lib/python3.7/site-packages/matplotlib/image.py\u001b[0m in \u001b[0;36m_draw_list_compositing_images\u001b[0;34m(renderer, parent, artists, suppress_composite)\u001b[0m\n\u001b[1;32m    133\u001b[0m     \u001b[0;32mif\u001b[0m \u001b[0mnot_composite\u001b[0m \u001b[0;32mor\u001b[0m \u001b[0;32mnot\u001b[0m \u001b[0mhas_images\u001b[0m\u001b[0;34m:\u001b[0m\u001b[0;34m\u001b[0m\u001b[0;34m\u001b[0m\u001b[0m\n\u001b[1;32m    134\u001b[0m         \u001b[0;32mfor\u001b[0m \u001b[0ma\u001b[0m \u001b[0;32min\u001b[0m \u001b[0martists\u001b[0m\u001b[0;34m:\u001b[0m\u001b[0;34m\u001b[0m\u001b[0;34m\u001b[0m\u001b[0m\n\u001b[0;32m--> 135\u001b[0;31m             \u001b[0ma\u001b[0m\u001b[0;34m.\u001b[0m\u001b[0mdraw\u001b[0m\u001b[0;34m(\u001b[0m\u001b[0mrenderer\u001b[0m\u001b[0;34m)\u001b[0m\u001b[0;34m\u001b[0m\u001b[0;34m\u001b[0m\u001b[0m\n\u001b[0m\u001b[1;32m    136\u001b[0m     \u001b[0;32melse\u001b[0m\u001b[0;34m:\u001b[0m\u001b[0;34m\u001b[0m\u001b[0;34m\u001b[0m\u001b[0m\n\u001b[1;32m    137\u001b[0m         \u001b[0;31m# Composite any adjacent images together\u001b[0m\u001b[0;34m\u001b[0m\u001b[0;34m\u001b[0m\u001b[0;34m\u001b[0m\u001b[0m\n",
      "\u001b[0;32m/usr/local/lib/python3.7/site-packages/matplotlib/artist.py\u001b[0m in \u001b[0;36mdraw_wrapper\u001b[0;34m(artist, renderer, *args, **kwargs)\u001b[0m\n\u001b[1;32m     36\u001b[0m                 \u001b[0mrenderer\u001b[0m\u001b[0;34m.\u001b[0m\u001b[0mstart_filter\u001b[0m\u001b[0;34m(\u001b[0m\u001b[0;34m)\u001b[0m\u001b[0;34m\u001b[0m\u001b[0;34m\u001b[0m\u001b[0m\n\u001b[1;32m     37\u001b[0m \u001b[0;34m\u001b[0m\u001b[0m\n\u001b[0;32m---> 38\u001b[0;31m             \u001b[0;32mreturn\u001b[0m \u001b[0mdraw\u001b[0m\u001b[0;34m(\u001b[0m\u001b[0martist\u001b[0m\u001b[0;34m,\u001b[0m \u001b[0mrenderer\u001b[0m\u001b[0;34m,\u001b[0m \u001b[0;34m*\u001b[0m\u001b[0margs\u001b[0m\u001b[0;34m,\u001b[0m \u001b[0;34m**\u001b[0m\u001b[0mkwargs\u001b[0m\u001b[0;34m)\u001b[0m\u001b[0;34m\u001b[0m\u001b[0;34m\u001b[0m\u001b[0m\n\u001b[0m\u001b[1;32m     39\u001b[0m         \u001b[0;32mfinally\u001b[0m\u001b[0;34m:\u001b[0m\u001b[0;34m\u001b[0m\u001b[0;34m\u001b[0m\u001b[0m\n\u001b[1;32m     40\u001b[0m             \u001b[0;32mif\u001b[0m \u001b[0martist\u001b[0m\u001b[0;34m.\u001b[0m\u001b[0mget_agg_filter\u001b[0m\u001b[0;34m(\u001b[0m\u001b[0;34m)\u001b[0m \u001b[0;32mis\u001b[0m \u001b[0;32mnot\u001b[0m \u001b[0;32mNone\u001b[0m\u001b[0;34m:\u001b[0m\u001b[0;34m\u001b[0m\u001b[0;34m\u001b[0m\u001b[0m\n",
      "\u001b[0;32m/usr/local/lib/python3.7/site-packages/matplotlib/lines.py\u001b[0m in \u001b[0;36mdraw\u001b[0;34m(self, renderer)\u001b[0m\n\u001b[1;32m    880\u001b[0m \u001b[0;34m\u001b[0m\u001b[0m\n\u001b[1;32m    881\u001b[0m         \u001b[0mrenderer\u001b[0m\u001b[0;34m.\u001b[0m\u001b[0mclose_group\u001b[0m\u001b[0;34m(\u001b[0m\u001b[0;34m'line2d'\u001b[0m\u001b[0;34m)\u001b[0m\u001b[0;34m\u001b[0m\u001b[0;34m\u001b[0m\u001b[0m\n\u001b[0;32m--> 882\u001b[0;31m         \u001b[0mself\u001b[0m\u001b[0;34m.\u001b[0m\u001b[0mstale\u001b[0m \u001b[0;34m=\u001b[0m \u001b[0;32mFalse\u001b[0m\u001b[0;34m\u001b[0m\u001b[0;34m\u001b[0m\u001b[0m\n\u001b[0m\u001b[1;32m    883\u001b[0m \u001b[0;34m\u001b[0m\u001b[0m\n\u001b[1;32m    884\u001b[0m     \u001b[0;32mdef\u001b[0m \u001b[0mget_antialiased\u001b[0m\u001b[0;34m(\u001b[0m\u001b[0mself\u001b[0m\u001b[0;34m)\u001b[0m\u001b[0;34m:\u001b[0m\u001b[0;34m\u001b[0m\u001b[0;34m\u001b[0m\u001b[0m\n",
      "\u001b[0;32m/usr/local/lib/python3.7/site-packages/matplotlib/artist.py\u001b[0m in \u001b[0;36mstale\u001b[0;34m(self, val)\u001b[0m\n\u001b[1;32m    219\u001b[0m     \u001b[0;34m@\u001b[0m\u001b[0mstale\u001b[0m\u001b[0;34m.\u001b[0m\u001b[0msetter\u001b[0m\u001b[0;34m\u001b[0m\u001b[0;34m\u001b[0m\u001b[0m\n\u001b[1;32m    220\u001b[0m     \u001b[0;32mdef\u001b[0m \u001b[0mstale\u001b[0m\u001b[0;34m(\u001b[0m\u001b[0mself\u001b[0m\u001b[0;34m,\u001b[0m \u001b[0mval\u001b[0m\u001b[0;34m)\u001b[0m\u001b[0;34m:\u001b[0m\u001b[0;34m\u001b[0m\u001b[0;34m\u001b[0m\u001b[0m\n\u001b[0;32m--> 221\u001b[0;31m         \u001b[0mself\u001b[0m\u001b[0;34m.\u001b[0m\u001b[0m_stale\u001b[0m \u001b[0;34m=\u001b[0m \u001b[0mval\u001b[0m\u001b[0;34m\u001b[0m\u001b[0;34m\u001b[0m\u001b[0m\n\u001b[0m\u001b[1;32m    222\u001b[0m \u001b[0;34m\u001b[0m\u001b[0m\n\u001b[1;32m    223\u001b[0m         \u001b[0;31m# if the artist is animated it does not take normal part in the\u001b[0m\u001b[0;34m\u001b[0m\u001b[0;34m\u001b[0m\u001b[0;34m\u001b[0m\u001b[0m\n",
      "\u001b[0;31mKeyboardInterrupt\u001b[0m: "
     ],
     "output_type": "error"
    },
    {
     "data": {
      "image/png": "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\n",
      "text/plain": [
       "<Figure size 864x720 with 10 Axes>"
      ]
     },
     "metadata": {
      "needs_background": "light"
     },
     "output_type": "display_data"
    }
   ],
   "source": [
    "pm.traceplot(trace)"
   ]
  },
  {
   "cell_type": "code",
   "execution_count": null,
   "metadata": {},
   "outputs": [],
   "source": [
    "pm.plot_posterior(trace,['yhat1'] )"
   ]
  },
  {
   "cell_type": "markdown",
   "metadata": {},
   "source": [
    "## Model with AR1"
   ]
  },
  {
   "cell_type": "code",
   "execution_count": 96,
   "metadata": {},
   "outputs": [
    {
     "name": "stderr",
     "output_type": "stream",
     "text": [
      "Auto-assigning NUTS sampler...\n",
      "Initializing NUTS using jitter+adapt_diag...\n",
      "Multiprocess sampling (2 chains in 2 jobs)\n",
      "NUTS: [k, tau, variance, beta, intercept]\n",
      "Sampling 2 chains: 100%|██████████| 3000/3000 [02:45<00:00, 18.08draws/s] \n"
     ]
    }
   ],
   "source": [
    "with pm.Model() as correlated_error_model:\n",
    "    intercept  = pm.Normal('intercept')\n",
    "    beta      = pm.Normal('beta',shape=len(predictors))\n",
    "    variance  = pm.InverseGamma('variance',alpha=0.1,beta=0.1)\n",
    "    sd        = pm.Deterministic('sd',variance**0.5)\n",
    "    \n",
    "    tau      = pm.Gamma('tau',0.1,0.1)\n",
    "    k        = pm.Uniform('k')\n",
    "    data    = pm.AR1('data', k=k, tau_e=tau, observed=(df1['meter_reading']))\n",
    "    mu      = pm.Deterministic('mu',intercept + pm.math.dot(df1[predictors],beta) + data)\n",
    "    y   = pm.Normal('y', mu=mu, sd=sd, observed=df1['meter_reading'])\n",
    "    \n",
    "    trace4 = pm.sample(tune=1000)"
   ]
  },
  {
   "cell_type": "code",
   "execution_count": 100,
   "metadata": {},
   "outputs": [
    {
     "data": {
      "text/plain": [
       "r2_r(r2_median=0.5, r2_mean=0.5, r2_std=0.0)"
      ]
     },
     "execution_count": 100,
     "metadata": {},
     "output_type": "execute_result"
    }
   ],
   "source": [
    "pm.stats.r2_score(df1['meter_reading'].values,trace4['mu'])"
   ]
  },
  {
   "cell_type": "code",
   "execution_count": 81,
   "metadata": {},
   "outputs": [
    {
     "name": "stderr",
     "output_type": "stream",
     "text": [
      "/usr/local/lib/python3.7/site-packages/ipykernel_launcher.py:1: FutureWarning: arrays to stack must be passed as a \"sequence\" type such as list or tuple. Support for non-sequence iterables such as generators is deprecated as of NumPy 1.16 and will raise an error in the future.\n",
      "  \"\"\"Entry point for launching an IPython kernel.\n",
      "/usr/local/lib/python3.7/site-packages/pymc3/stats.py:218: UserWarning: For one or more samples the posterior variance of the\n",
      "        log predictive densities exceeds 0.4. This could be indication of\n",
      "        WAIC starting to fail see http://arxiv.org/abs/1507.04544 for details\n",
      "        \n",
      "  \"\"\")\n"
     ]
    },
    {
     "data": {
      "text/plain": [
       "WAIC_r(WAIC=-1664168.1845084145, WAIC_se=792975.6825104896, p_WAIC=39659.53961996665, var_warn=1)"
      ]
     },
     "execution_count": 81,
     "metadata": {},
     "output_type": "execute_result"
    }
   ],
   "source": [
    "pm.stats.waic(trace4, model = correlated_error_model)"
   ]
  },
  {
   "cell_type": "code",
   "execution_count": 36,
   "metadata": {},
   "outputs": [
    {
     "name": "stdout",
     "output_type": "stream",
     "text": [
      "# packages in environment at /opt/anaconda3:\r\n",
      "#\r\n",
      "# Name                    Version                   Build  Channel\r\n",
      "_ipyw_jlab_nb_ext_conf    0.1.0                    py37_0  \r\n",
      "alabaster                 0.7.12                   py37_0  \r\n",
      "anaconda                  2019.10                  py37_0  \r\n",
      "anaconda-client           1.7.2                    py37_0  \r\n",
      "anaconda-navigator        1.9.7                    py37_0  \r\n",
      "anaconda-project          0.8.3                      py_0  \r\n",
      "appnope                   0.1.0                    py37_0  \r\n",
      "appscript                 1.1.0            py37h1de35cc_0  \r\n",
      "asn1crypto                1.0.1                    py37_0  \r\n",
      "astroid                   2.3.1                    py37_0  \r\n",
      "astropy                   3.2.2            py37h1de35cc_0  \r\n",
      "atomicwrites              1.3.0                    py37_1  \r\n",
      "attrs                     19.2.0                     py_0  \r\n",
      "babel                     2.7.0                      py_0  \r\n",
      "backcall                  0.1.0                    py37_0  \r\n",
      "backports                 1.0                        py_2  \r\n",
      "backports.functools_lru_cache 1.6.1                      py_0  \r\n",
      "backports.os              0.1.1                    py37_0  \r\n",
      "backports.shutil_get_terminal_size 1.0.0                    py37_2  \r\n",
      "backports.tempfile        1.0                        py_1  \r\n",
      "backports.weakref         1.0.post1                  py_1  \r\n",
      "beautifulsoup4            4.8.0                    py37_0  \r\n",
      "bitarray                  1.0.1            py37h1de35cc_0  \r\n",
      "bkcharts                  0.2                      py37_0  \r\n",
      "blas                      1.0                         mkl  \r\n",
      "bleach                    3.1.0                    py37_0  \r\n",
      "blosc                     1.16.3               hd9629dc_0  \r\n",
      "bokeh                     1.3.4                    py37_0  \r\n",
      "boto                      2.49.0                   py37_0  \r\n",
      "bottleneck                1.2.1            py37h1d22016_1  \r\n",
      "bzip2                     1.0.8                h1de35cc_0  \r\n",
      "ca-certificates           2019.8.28                     0  \r\n",
      "cctools                   895                           1  \r\n",
      "certifi                   2019.9.11                py37_0  \r\n",
      "cffi                      1.12.3           py37hb5b8e2f_0  \r\n",
      "chardet                   3.0.4                 py37_1003  \r\n",
      "clang                     4.0.1                         1  \r\n",
      "clang_osx-64              4.0.1               h1ce6c1d_18  \r\n",
      "clangxx                   4.0.1                         1  \r\n",
      "clangxx_osx-64            4.0.1               h22b1bf0_18  \r\n",
      "click                     7.0                      py37_0  \r\n",
      "cloudpickle               1.2.2                      py_0  \r\n",
      "clyent                    1.2.2                    py37_1  \r\n",
      "colorama                  0.4.1                    py37_0  \r\n",
      "compiler-rt               4.0.1                hcfea43d_1  \r\n",
      "conda                     4.7.12                   py37_0  \r\n",
      "conda-build               3.18.9                   py37_3  \r\n",
      "conda-env                 2.6.0                         1  \r\n",
      "conda-package-handling    1.6.0            py37h1de35cc_0  \r\n",
      "conda-verify              3.4.2                      py_1  \r\n",
      "contextlib2               0.6.0                      py_0  \r\n",
      "cryptography              2.7              py37ha12b0ac_0  \r\n",
      "curl                      7.65.3               ha441bb4_0  \r\n",
      "cycler                    0.10.0                   py37_0  \r\n",
      "cython                    0.29.13          py37h0a44026_0  \r\n",
      "cytoolz                   0.10.0           py37h1de35cc_0  \r\n",
      "dask                      2.5.2                      py_0  \r\n",
      "dask-core                 2.5.2                      py_0  \r\n",
      "dbus                      1.13.6               h90a0687_0  \r\n",
      "decorator                 4.4.0                    py37_1  \r\n",
      "defusedxml                0.6.0                      py_0  \r\n",
      "distributed               2.5.2                      py_0  \r\n",
      "docutils                  0.15.2                   py37_0  \r\n",
      "entrypoints               0.3                      py37_0  \r\n",
      "et_xmlfile                1.0.1                    py37_0  \r\n",
      "expat                     2.2.6                h0a44026_0  \r\n",
      "fastcache                 1.1.0            py37h1de35cc_0  \r\n",
      "filelock                  3.0.12                     py_0  \r\n",
      "flask                     1.1.1                      py_0  \r\n",
      "freetype                  2.9.1                hb4e5f40_0  \r\n",
      "fsspec                    0.5.2                      py_0  \r\n",
      "future                    0.18.2                   py37_0  \r\n",
      "get_terminal_size         1.0.0                h7520d66_0  \r\n",
      "gettext                   0.19.8.1             h15daf44_3  \r\n",
      "gevent                    1.4.0            py37h1de35cc_0  \r\n",
      "glib                      2.56.2               hd9629dc_0  \r\n",
      "glob2                     0.7                        py_0  \r\n",
      "gmp                       6.1.2                hb37e062_1  \r\n",
      "gmpy2                     2.0.8            py37h6ef4df4_2  \r\n",
      "greenlet                  0.4.15           py37h1de35cc_0  \r\n",
      "h5py                      2.9.0            py37h3134771_0  \r\n",
      "hdf5                      1.10.4               hfa1e0ec_0  \r\n",
      "heapdict                  1.0.1                      py_0  \r\n",
      "html5lib                  1.0.1                    py37_0  \r\n",
      "icu                       58.2                 h4b95b61_1  \r\n",
      "idna                      2.8                      py37_0  \r\n",
      "imageio                   2.6.0                    py37_0  \r\n",
      "imagesize                 1.1.0                    py37_0  \r\n",
      "importlib_metadata        0.23                     py37_0  \r\n",
      "intel-openmp              2019.4                      233  \r\n",
      "ipykernel                 5.1.2            py37h39e3cac_0  \r\n",
      "ipython                   7.8.0            py37h39e3cac_0  \r\n",
      "ipython_genutils          0.2.0                    py37_0  \r\n",
      "ipywidgets                7.5.1                      py_0  \r\n",
      "isort                     4.3.21                   py37_0  \r\n",
      "itsdangerous              1.1.0                    py37_0  \r\n",
      "jbig                      2.1                  h4d881f8_0  \r\n",
      "jdcal                     1.4.1                      py_0  \r\n",
      "jedi                      0.15.1                   py37_0  \r\n",
      "jinja2                    2.10.3                     py_0  \r\n",
      "joblib                    0.13.2                   py37_0  \r\n",
      "jpeg                      9b                   he5867d9_2  \r\n",
      "json5                     0.8.5                      py_0  \r\n",
      "jsonschema                3.0.2                    py37_0  \r\n",
      "jupyter                   1.0.0                    py37_7  \r\n",
      "jupyter_client            5.3.3                    py37_1  \r\n",
      "jupyter_console           6.0.0                    py37_0  \r\n",
      "jupyter_core              4.5.0                      py_0  \r\n",
      "jupyterlab                1.1.4              pyhf63ae98_0  \r\n",
      "jupyterlab_server         1.0.6                      py_0  \r\n",
      "keyring                   18.0.0                   py37_0  \r\n",
      "kiwisolver                1.1.0            py37h0a44026_0  \r\n",
      "krb5                      1.16.1               hddcf347_7  \r\n",
      "lazy-object-proxy         1.4.2            py37h1de35cc_0  \r\n",
      "ld64                      274.2                         1  \r\n",
      "libarchive                3.3.3                h786848e_5  \r\n",
      "libcurl                   7.65.3               h051b688_0  \r\n",
      "libcxx                    4.0.1                hcfea43d_1  \r\n",
      "libcxxabi                 4.0.1                hcfea43d_1  \r\n",
      "libedit                   3.1.20181209         hb402a30_0  \r\n",
      "libffi                    3.2.1                h475c297_4  \r\n",
      "libgfortran               3.0.1                h93005f0_2  \r\n",
      "libiconv                  1.15                 hdd342a3_7  \r\n",
      "liblief                   0.9.0                h2a1bed3_2  \r\n",
      "libpng                    1.6.37               ha441bb4_0  \r\n",
      "libsodium                 1.0.16               h3efe00b_0  \r\n",
      "libssh2                   1.8.2                ha12b0ac_0  \r\n",
      "libtiff                   4.0.10               hcb84e12_2  \r\n",
      "libxml2                   2.9.9                hf6e021a_1  \r\n",
      "libxslt                   1.1.33               h33a18ac_0  \r\n",
      "llvm                      4.0.1                         1  \r\n",
      "llvm-lto-tapi             4.0.1                         1  \r\n",
      "llvm-openmp               4.0.1                hcfea43d_1  \r\n",
      "llvmlite                  0.29.0           py37h98b8051_0  \r\n",
      "locket                    0.2.0                    py37_1  \r\n",
      "lxml                      4.4.1            py37hef8c89e_0  \r\n",
      "lz4-c                     1.8.1.2              h1de35cc_0  \r\n",
      "lzo                       2.10                 h362108e_2  \r\n",
      "markupsafe                1.1.1            py37h1de35cc_0  \r\n",
      "matplotlib                3.1.1            py37h54f8f79_0  \r\n",
      "mccabe                    0.6.1                    py37_1  \r\n",
      "mistune                   0.8.4            py37h1de35cc_0  \r\n",
      "mkl                       2019.4                      233  \r\n",
      "mkl-service               2.3.0            py37hfbe908c_0  \r\n",
      "mkl_fft                   1.0.14           py37h5e564d8_0  \r\n",
      "mkl_random                1.1.0            py37ha771720_0  \r\n",
      "mock                      3.0.5                    py37_0  \r\n",
      "more-itertools            7.2.0                    py37_0  \r\n",
      "mpc                       1.1.0                h6ef4df4_1  \r\n",
      "mpfr                      4.0.1                h3018a27_3  \r\n",
      "mpmath                    1.1.0                    py37_0  \r\n",
      "msgpack-python            0.6.1            py37h04f5b5a_1  \r\n",
      "multipledispatch          0.6.0                    py37_0  \r\n",
      "navigator-updater         0.2.1                    py37_0  \r\n",
      "nbconvert                 5.6.0                    py37_1  \r\n",
      "nbformat                  4.4.0                    py37_0  \r\n",
      "ncurses                   6.1                  h0a44026_1  \r\n",
      "networkx                  2.3                        py_0  \r\n",
      "nltk                      3.4.5                    py37_0  \r\n",
      "nose                      1.3.7                    py37_2  \r\n",
      "notebook                  6.0.1                    py37_0  \r\n",
      "numba                     0.45.1           py37h6440ff4_0  \r\n",
      "numexpr                   2.7.0            py37h7413580_0  \r\n",
      "numpy                     1.17.2           py37h99e6662_0  \r\n",
      "numpy-base                1.17.2           py37h6575580_0  \r\n",
      "numpydoc                  0.9.1                      py_0  \r\n",
      "olefile                   0.46                     py37_0  \r\n",
      "openpyxl                  3.0.0                      py_0  \r\n",
      "openssl                   1.1.1d               h1de35cc_2  \r\n",
      "packaging                 19.2                       py_0  \r\n",
      "pandas                    0.25.1           py37h0a44026_0  \r\n",
      "pandoc                    2.2.3.2                       0  \r\n",
      "pandocfilters             1.4.2                    py37_1  \r\n",
      "parso                     0.5.1                      py_0  \r\n",
      "partd                     1.0.0                      py_0  \r\n",
      "path.py                   12.0.1                     py_0  \r\n",
      "pathlib2                  2.3.5                    py37_0  \r\n",
      "patsy                     0.5.1                    py37_0  \r\n",
      "pcre                      8.43                 h0a44026_0  \r\n",
      "pep8                      1.7.1                    py37_0  \r\n",
      "pexpect                   4.7.0                    py37_0  \r\n",
      "pickleshare               0.7.5                    py37_0  \r\n",
      "pillow                    6.2.0            py37hb68e598_0  \r\n",
      "pip                       19.2.3                   py37_0  \r\n",
      "pkginfo                   1.5.0.1                  py37_0  \r\n",
      "pluggy                    0.13.0                   py37_0  \r\n",
      "ply                       3.11                     py37_0  \r\n",
      "prometheus_client         0.7.1                      py_0  \r\n",
      "prompt_toolkit            2.0.10                     py_0  \r\n",
      "psutil                    5.6.3            py37h1de35cc_0  \r\n",
      "ptyprocess                0.6.0                    py37_0  \r\n",
      "py                        1.8.0                    py37_0  \r\n",
      "py-lief                   0.9.0            py37h1413db1_2  \r\n",
      "pycodestyle               2.5.0                    py37_0  \r\n",
      "pycosat                   0.6.3            py37h1de35cc_0  \r\n",
      "pycparser                 2.19                     py37_0  \r\n",
      "pycrypto                  2.6.1            py37h1de35cc_9  \r\n",
      "pycurl                    7.43.0.3         py37ha12b0ac_0  \r\n",
      "pyflakes                  2.1.1                    py37_0  \r\n",
      "pygments                  2.4.2                      py_0  \r\n",
      "pylint                    2.4.2                    py37_0  \r\n",
      "pymc3                     3.7                        py_0  \r\n",
      "pyodbc                    4.0.27           py37h0a44026_0  \r\n",
      "pyopenssl                 19.0.0                   py37_0  \r\n",
      "pyparsing                 2.4.2                      py_0  \r\n",
      "pyqt                      5.9.2            py37h655552a_2  \r\n",
      "pyrsistent                0.15.4           py37h1de35cc_0  \r\n",
      "pysocks                   1.7.1                    py37_0  \r\n",
      "pytables                  3.5.2            py37h5bccee9_1  \r\n",
      "pytest                    5.2.1                    py37_0  \r\n",
      "pytest-arraydiff          0.3              py37h39e3cac_0  \r\n",
      "pytest-astropy            0.5.0                    py37_0  \r\n",
      "pytest-doctestplus        0.4.0                      py_0  \r\n",
      "pytest-openfiles          0.4.0                      py_0  \r\n",
      "pytest-remotedata         0.3.2                    py37_0  \r\n",
      "python                    3.7.4                h359304d_1  \r\n",
      "python-dateutil           2.8.0                    py37_0  \r\n",
      "python-libarchive-c       2.8                     py37_13  \r\n",
      "python.app                2                        py37_9  \r\n",
      "pytz                      2019.3                     py_0  \r\n",
      "pywavelets                1.0.3            py37h1d22016_1  \r\n",
      "pyyaml                    5.1.2            py37h1de35cc_0  \r\n",
      "pyzmq                     18.1.0           py37h0a44026_0  \r\n",
      "qt                        5.9.7                h468cd18_1  \r\n",
      "qtawesome                 0.6.0                      py_0  \r\n",
      "qtconsole                 4.5.5                      py_0  \r\n",
      "qtpy                      1.9.0                      py_0  \r\n",
      "readline                  7.0                  h1de35cc_5  \r\n",
      "requests                  2.22.0                   py37_0  \r\n",
      "ripgrep                   0.10.0               hc07d326_0  \r\n",
      "rope                      0.14.0                     py_0  \r\n",
      "ruamel_yaml               0.15.46          py37h1de35cc_0  \r\n",
      "scikit-image              0.15.0           py37h0a44026_0  \r\n",
      "scikit-learn              0.21.3           py37h27c97d8_0  \r\n",
      "scipy                     1.3.1            py37h1410ff5_0  \r\n",
      "seaborn                   0.9.0                    py37_0  \r\n",
      "send2trash                1.5.0                    py37_0  \r\n",
      "setuptools                41.4.0                   py37_0  \r\n",
      "simplegeneric             0.8.1                    py37_2  \r\n",
      "singledispatch            3.4.0.3                  py37_0  \r\n",
      "sip                       4.19.8           py37h0a44026_0  \r\n",
      "six                       1.12.0                   py37_0  \r\n",
      "snappy                    1.1.7                he62c110_3  \r\n",
      "snowballstemmer           2.0.0                      py_0  \r\n",
      "sortedcollections         1.1.2                    py37_0  \r\n",
      "sortedcontainers          2.1.0                    py37_0  \r\n",
      "soupsieve                 1.9.3                    py37_0  \r\n",
      "sphinx                    2.2.0                      py_0  \r\n",
      "sphinxcontrib             1.0                      py37_1  \r\n",
      "sphinxcontrib-applehelp   1.0.1                      py_0  \r\n",
      "sphinxcontrib-devhelp     1.0.1                      py_0  \r\n",
      "sphinxcontrib-htmlhelp    1.0.2                      py_0  \r\n",
      "sphinxcontrib-jsmath      1.0.1                      py_0  \r\n",
      "sphinxcontrib-qthelp      1.0.2                      py_0  \r\n",
      "sphinxcontrib-serializinghtml 1.1.3                      py_0  \r\n",
      "sphinxcontrib-websupport  1.1.2                      py_0  \r\n",
      "spyder                    3.3.6                    py37_0  \r\n",
      "spyder-kernels            0.5.2                    py37_0  \r\n",
      "sqlalchemy                1.3.9            py37h1de35cc_0  \r\n",
      "sqlite                    3.30.0               ha441bb4_0  \r\n",
      "statsmodels               0.10.1           py37h1d22016_0  \r\n",
      "sympy                     1.4                      py37_0  \r\n",
      "tbb                       2019.8               h04f5b5a_0  \r\n",
      "tblib                     1.4.0                      py_0  \r\n",
      "terminado                 0.8.2                    py37_0  \r\n",
      "testpath                  0.4.2                    py37_0  \r\n",
      "theano                    1.0.4            py37h04f5b5a_0  \r\n",
      "tk                        8.6.8                ha441bb4_0  \r\n",
      "toolz                     0.10.0                     py_0  \r\n",
      "tornado                   6.0.3            py37h1de35cc_0  \r\n",
      "tqdm                      4.36.1                     py_0  \r\n",
      "traitlets                 4.3.3                    py37_0  \r\n",
      "unicodecsv                0.14.1                   py37_0  \r\n",
      "unixodbc                  2.3.7                h1de35cc_0  \r\n",
      "urllib3                   1.24.2                   py37_0  \r\n",
      "wcwidth                   0.1.7                    py37_0  \r\n",
      "webencodings              0.5.1                    py37_1  \r\n",
      "werkzeug                  0.16.0                     py_0  \r\n",
      "wheel                     0.33.6                   py37_0  \r\n",
      "widgetsnbextension        3.5.1                    py37_0  \r\n",
      "wrapt                     1.11.2           py37h1de35cc_0  \r\n",
      "wurlitzer                 1.0.3                    py37_0  \r\n",
      "xlrd                      1.2.0                    py37_0  \r\n",
      "xlsxwriter                1.2.1                      py_0  \r\n",
      "xlwings                   0.15.10                  py37_0  \r\n",
      "xlwt                      1.3.0                    py37_0  \r\n",
      "xz                        5.2.4                h1de35cc_4  \r\n",
      "yaml                      0.1.7                hc338f04_2  \r\n",
      "zeromq                    4.3.1                h0a44026_3  \r\n",
      "zict                      1.0.0                      py_0  \r\n",
      "zipp                      0.6.0                      py_0  \r\n",
      "zlib                      1.2.11               h1de35cc_3  \r\n",
      "zstd                      1.3.7                h5bba6e5_0  \r\n"
     ]
    }
   ],
   "source": [
    "!conda list"
   ]
  },
  {
   "cell_type": "code",
   "execution_count": null,
   "metadata": {
    "scrolled": false
   },
   "outputs": [],
   "source": [
    "pm.forestplot(trace4,ylabels=['intercept'] + predictors + ['variance','sd'] + ['beta_dynamic']);"
   ]
  },
  {
   "cell_type": "code",
   "execution_count": null,
   "metadata": {},
   "outputs": [],
   "source": [
    "pm.plot_posterior(trace4,['mu'] )"
   ]
  },
  {
   "cell_type": "code",
   "execution_count": null,
   "metadata": {},
   "outputs": [],
   "source": [
    "pm.traceplot(trace4)"
   ]
  },
  {
   "cell_type": "markdown",
   "metadata": {},
   "source": [
    "## Draft"
   ]
  },
  {
   "cell_type": "code",
   "execution_count": null,
   "metadata": {},
   "outputs": [],
   "source": [
    "with pm.Model() as correlated_error_model:\n",
    "    intercept = pm.Normal('intercept')\n",
    "    beta      = pm.Normal('beta',shape=len(predictors))\n",
    "    mu       = intercept + pm.math.dot(df1[predictors], beta)\n",
    "    tau      = pm.Gamma('tau',0.1,0.1)\n",
    "    k        = pm.Uniform('k')\n",
    "    print(predictors)\n",
    "    print(df1['meter_reading']-mu)\n",
    "#    error    = pm.AR1('error', k=k, tau_e=tau, observed=(df1['meter_reading']-mu).T)\n",
    "    \n",
    "#    yhat1 = intercept + pm.math.dot(df1[predictors],beta) + pm.math.dot(df1['meter_reading'],beta_dynamic)\n",
    "#     trace4 = pm.sample(tune=1000)"
   ]
  }
 ],
 "metadata": {
  "kernelspec": {
   "display_name": "Python 3",
   "language": "python",
   "name": "python3"
  },
  "language_info": {
   "codemirror_mode": {
    "name": "ipython",
    "version": 3
   },
   "file_extension": ".py",
   "mimetype": "text/x-python",
   "name": "python",
   "nbconvert_exporter": "python",
   "pygments_lexer": "ipython3",
   "version": "3.7.3"
  }
 },
 "nbformat": 4,
 "nbformat_minor": 2
}
